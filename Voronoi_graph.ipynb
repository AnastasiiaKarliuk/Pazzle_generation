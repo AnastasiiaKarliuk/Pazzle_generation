{
 "cells": [
  {
   "cell_type": "code",
   "execution_count": 1,
   "id": "24a8ddd3",
   "metadata": {
    "ExecuteTime": {
     "end_time": "2022-01-26T16:22:31.282507Z",
     "start_time": "2022-01-26T16:22:30.499106Z"
    }
   },
   "outputs": [],
   "source": [
    "import itertools\n",
    "import numpy as np\n",
    "import plotly.express as plx\n",
    "import plotly.graph_objects as go\n",
    "from sklearn.cluster import KMeans\n",
    "from scipy.spatial import Voronoi, voronoi_plot_2d\n",
    "\n",
    "from function_splitting import crop_axis, form_x_y_polygons\n",
    "from functions_voronoi import voronoi_finite_polygons_2d, voronoi_polygons\n",
    "\n",
    "from Bezier_functions import skew_polygon, skew_graph, evaluate_bezier\n",
    "\n",
    "import warnings\n",
    "warnings.filterwarnings('ignore')\n",
    "\n",
    "np.set_printoptions(suppress=True)\n",
    "%load_ext autoreload\n",
    "%autoreload 2"
   ]
  },
  {
   "cell_type": "code",
   "execution_count": 2,
   "id": "b87e2743",
   "metadata": {
    "ExecuteTime": {
     "end_time": "2022-01-26T16:22:31.314401Z",
     "start_time": "2022-01-26T16:22:31.284200Z"
    }
   },
   "outputs": [
    {
     "data": {
      "text/plain": [
       "(10000, 2)"
      ]
     },
     "execution_count": 2,
     "metadata": {},
     "output_type": "execute_result"
    }
   ],
   "source": [
    "INPUT_WIDTH = 100\n",
    "INPUT_HEIGHT = 100\n",
    "\n",
    "in_points = np.array([[x, y] for x in range(INPUT_WIDTH) for y in range(INPUT_HEIGHT)])\n",
    "in_points.shape"
   ]
  },
  {
   "cell_type": "code",
   "execution_count": 28,
   "id": "7726e502",
   "metadata": {
    "ExecuteTime": {
     "end_time": "2022-01-26T16:57:49.152251Z",
     "start_time": "2022-01-26T16:57:47.495498Z"
    }
   },
   "outputs": [
    {
     "data": {
      "text/plain": [
       "(10, 2)"
      ]
     },
     "execution_count": 28,
     "metadata": {},
     "output_type": "execute_result"
    }
   ],
   "source": [
    "N_points = 10\n",
    "\n",
    "kmeans = KMeans(n_clusters=N_points, random_state=0)\n",
    "clusters = kmeans.fit_predict(in_points)\n",
    "new_points = np.array([np.mean(in_points[clusters == curr], axis=0) for curr in set(clusters)])\n",
    "new_points += np.array([[x_r, y_r] for x_r,y_r in zip(np.random.randint(N_points, size=N_points), \n",
    "                                                      np.random.random(N_points)+np.random.randint(N_points, size=N_points))])\n",
    "new_points.shape"
   ]
  },
  {
   "cell_type": "code",
   "execution_count": 29,
   "id": "5601db97",
   "metadata": {
    "ExecuteTime": {
     "end_time": "2022-01-26T16:57:49.807605Z",
     "start_time": "2022-01-26T16:57:49.776994Z"
    }
   },
   "outputs": [
    {
     "data": {
      "application/vnd.plotly.v1+json": {
       "config": {
        "plotlyServerURL": "https://plot.ly"
       },
       "data": [
        {
         "mode": "lines+markers",
         "type": "scatter",
         "x": [
          78.0374,
          83.0124,
          100,
          100,
          72.3675,
          78.0374,
          null,
          0,
          27.9423,
          27.8046,
          0,
          0,
          null,
          100,
          79.3386,
          69.4015,
          75.3601,
          100,
          100,
          null,
          40.649504437844165,
          52.34763491534599,
          55.06905440365178,
          38.098842708300225,
          27.94229036361957,
          27.804581795741896,
          null,
          35.4301,
          38.0988,
          27.9423,
          0,
          0,
          35.4301,
          null,
          0,
          27.8046,
          40.6495,
          42.3564,
          0,
          0,
          null,
          52.34763491534599,
          78.03743051750989,
          83.01243418121757,
          79.33862094684517,
          69.40149651909532,
          55.06905440365178,
          null,
          40.6495,
          42.3564,
          72.3675,
          78.0374,
          52.3476,
          40.6495,
          null,
          75.3601,
          69.4015,
          55.0691,
          38.0988,
          35.4301,
          75.3601,
          null,
          79.3386,
          100,
          100,
          83.0124,
          79.3386,
          null
         ],
         "y": [
          73.4178,
          70.2132,
          71.8747,
          100,
          100,
          73.4178,
          null,
          32.9562,
          37.1656,
          67.2801,
          74.1318,
          32.9562,
          null,
          35.4998,
          39.5995,
          32.3086,
          0,
          0,
          35.4998,
          null,
          73.2382648947395,
          66.70378378327698,
          37.27898886003666,
          30.751132999145277,
          37.16557303060888,
          67.28014396473462,
          null,
          0,
          30.7511,
          37.1656,
          32.9562,
          0,
          0,
          null,
          74.1318,
          67.2801,
          73.2383,
          100,
          100,
          74.1318,
          null,
          66.70378378327698,
          73.41779900903606,
          70.21322339322631,
          39.599481293970314,
          32.30857204163232,
          37.27898886003666,
          null,
          73.2383,
          100,
          100,
          73.4178,
          66.7038,
          73.2383,
          null,
          0,
          32.3086,
          37.279,
          30.7511,
          0,
          0,
          null,
          39.5995,
          35.4998,
          71.8747,
          70.2132,
          39.5995,
          null
         ]
        }
       ],
       "layout": {
        "template": {
         "data": {
          "bar": [
           {
            "error_x": {
             "color": "#2a3f5f"
            },
            "error_y": {
             "color": "#2a3f5f"
            },
            "marker": {
             "line": {
              "color": "#E5ECF6",
              "width": 0.5
             },
             "pattern": {
              "fillmode": "overlay",
              "size": 10,
              "solidity": 0.2
             }
            },
            "type": "bar"
           }
          ],
          "barpolar": [
           {
            "marker": {
             "line": {
              "color": "#E5ECF6",
              "width": 0.5
             },
             "pattern": {
              "fillmode": "overlay",
              "size": 10,
              "solidity": 0.2
             }
            },
            "type": "barpolar"
           }
          ],
          "carpet": [
           {
            "aaxis": {
             "endlinecolor": "#2a3f5f",
             "gridcolor": "white",
             "linecolor": "white",
             "minorgridcolor": "white",
             "startlinecolor": "#2a3f5f"
            },
            "baxis": {
             "endlinecolor": "#2a3f5f",
             "gridcolor": "white",
             "linecolor": "white",
             "minorgridcolor": "white",
             "startlinecolor": "#2a3f5f"
            },
            "type": "carpet"
           }
          ],
          "choropleth": [
           {
            "colorbar": {
             "outlinewidth": 0,
             "ticks": ""
            },
            "type": "choropleth"
           }
          ],
          "contour": [
           {
            "colorbar": {
             "outlinewidth": 0,
             "ticks": ""
            },
            "colorscale": [
             [
              0,
              "#0d0887"
             ],
             [
              0.1111111111111111,
              "#46039f"
             ],
             [
              0.2222222222222222,
              "#7201a8"
             ],
             [
              0.3333333333333333,
              "#9c179e"
             ],
             [
              0.4444444444444444,
              "#bd3786"
             ],
             [
              0.5555555555555556,
              "#d8576b"
             ],
             [
              0.6666666666666666,
              "#ed7953"
             ],
             [
              0.7777777777777778,
              "#fb9f3a"
             ],
             [
              0.8888888888888888,
              "#fdca26"
             ],
             [
              1,
              "#f0f921"
             ]
            ],
            "type": "contour"
           }
          ],
          "contourcarpet": [
           {
            "colorbar": {
             "outlinewidth": 0,
             "ticks": ""
            },
            "type": "contourcarpet"
           }
          ],
          "heatmap": [
           {
            "colorbar": {
             "outlinewidth": 0,
             "ticks": ""
            },
            "colorscale": [
             [
              0,
              "#0d0887"
             ],
             [
              0.1111111111111111,
              "#46039f"
             ],
             [
              0.2222222222222222,
              "#7201a8"
             ],
             [
              0.3333333333333333,
              "#9c179e"
             ],
             [
              0.4444444444444444,
              "#bd3786"
             ],
             [
              0.5555555555555556,
              "#d8576b"
             ],
             [
              0.6666666666666666,
              "#ed7953"
             ],
             [
              0.7777777777777778,
              "#fb9f3a"
             ],
             [
              0.8888888888888888,
              "#fdca26"
             ],
             [
              1,
              "#f0f921"
             ]
            ],
            "type": "heatmap"
           }
          ],
          "heatmapgl": [
           {
            "colorbar": {
             "outlinewidth": 0,
             "ticks": ""
            },
            "colorscale": [
             [
              0,
              "#0d0887"
             ],
             [
              0.1111111111111111,
              "#46039f"
             ],
             [
              0.2222222222222222,
              "#7201a8"
             ],
             [
              0.3333333333333333,
              "#9c179e"
             ],
             [
              0.4444444444444444,
              "#bd3786"
             ],
             [
              0.5555555555555556,
              "#d8576b"
             ],
             [
              0.6666666666666666,
              "#ed7953"
             ],
             [
              0.7777777777777778,
              "#fb9f3a"
             ],
             [
              0.8888888888888888,
              "#fdca26"
             ],
             [
              1,
              "#f0f921"
             ]
            ],
            "type": "heatmapgl"
           }
          ],
          "histogram": [
           {
            "marker": {
             "pattern": {
              "fillmode": "overlay",
              "size": 10,
              "solidity": 0.2
             }
            },
            "type": "histogram"
           }
          ],
          "histogram2d": [
           {
            "colorbar": {
             "outlinewidth": 0,
             "ticks": ""
            },
            "colorscale": [
             [
              0,
              "#0d0887"
             ],
             [
              0.1111111111111111,
              "#46039f"
             ],
             [
              0.2222222222222222,
              "#7201a8"
             ],
             [
              0.3333333333333333,
              "#9c179e"
             ],
             [
              0.4444444444444444,
              "#bd3786"
             ],
             [
              0.5555555555555556,
              "#d8576b"
             ],
             [
              0.6666666666666666,
              "#ed7953"
             ],
             [
              0.7777777777777778,
              "#fb9f3a"
             ],
             [
              0.8888888888888888,
              "#fdca26"
             ],
             [
              1,
              "#f0f921"
             ]
            ],
            "type": "histogram2d"
           }
          ],
          "histogram2dcontour": [
           {
            "colorbar": {
             "outlinewidth": 0,
             "ticks": ""
            },
            "colorscale": [
             [
              0,
              "#0d0887"
             ],
             [
              0.1111111111111111,
              "#46039f"
             ],
             [
              0.2222222222222222,
              "#7201a8"
             ],
             [
              0.3333333333333333,
              "#9c179e"
             ],
             [
              0.4444444444444444,
              "#bd3786"
             ],
             [
              0.5555555555555556,
              "#d8576b"
             ],
             [
              0.6666666666666666,
              "#ed7953"
             ],
             [
              0.7777777777777778,
              "#fb9f3a"
             ],
             [
              0.8888888888888888,
              "#fdca26"
             ],
             [
              1,
              "#f0f921"
             ]
            ],
            "type": "histogram2dcontour"
           }
          ],
          "mesh3d": [
           {
            "colorbar": {
             "outlinewidth": 0,
             "ticks": ""
            },
            "type": "mesh3d"
           }
          ],
          "parcoords": [
           {
            "line": {
             "colorbar": {
              "outlinewidth": 0,
              "ticks": ""
             }
            },
            "type": "parcoords"
           }
          ],
          "pie": [
           {
            "automargin": true,
            "type": "pie"
           }
          ],
          "scatter": [
           {
            "marker": {
             "colorbar": {
              "outlinewidth": 0,
              "ticks": ""
             }
            },
            "type": "scatter"
           }
          ],
          "scatter3d": [
           {
            "line": {
             "colorbar": {
              "outlinewidth": 0,
              "ticks": ""
             }
            },
            "marker": {
             "colorbar": {
              "outlinewidth": 0,
              "ticks": ""
             }
            },
            "type": "scatter3d"
           }
          ],
          "scattercarpet": [
           {
            "marker": {
             "colorbar": {
              "outlinewidth": 0,
              "ticks": ""
             }
            },
            "type": "scattercarpet"
           }
          ],
          "scattergeo": [
           {
            "marker": {
             "colorbar": {
              "outlinewidth": 0,
              "ticks": ""
             }
            },
            "type": "scattergeo"
           }
          ],
          "scattergl": [
           {
            "marker": {
             "colorbar": {
              "outlinewidth": 0,
              "ticks": ""
             }
            },
            "type": "scattergl"
           }
          ],
          "scattermapbox": [
           {
            "marker": {
             "colorbar": {
              "outlinewidth": 0,
              "ticks": ""
             }
            },
            "type": "scattermapbox"
           }
          ],
          "scatterpolar": [
           {
            "marker": {
             "colorbar": {
              "outlinewidth": 0,
              "ticks": ""
             }
            },
            "type": "scatterpolar"
           }
          ],
          "scatterpolargl": [
           {
            "marker": {
             "colorbar": {
              "outlinewidth": 0,
              "ticks": ""
             }
            },
            "type": "scatterpolargl"
           }
          ],
          "scatterternary": [
           {
            "marker": {
             "colorbar": {
              "outlinewidth": 0,
              "ticks": ""
             }
            },
            "type": "scatterternary"
           }
          ],
          "surface": [
           {
            "colorbar": {
             "outlinewidth": 0,
             "ticks": ""
            },
            "colorscale": [
             [
              0,
              "#0d0887"
             ],
             [
              0.1111111111111111,
              "#46039f"
             ],
             [
              0.2222222222222222,
              "#7201a8"
             ],
             [
              0.3333333333333333,
              "#9c179e"
             ],
             [
              0.4444444444444444,
              "#bd3786"
             ],
             [
              0.5555555555555556,
              "#d8576b"
             ],
             [
              0.6666666666666666,
              "#ed7953"
             ],
             [
              0.7777777777777778,
              "#fb9f3a"
             ],
             [
              0.8888888888888888,
              "#fdca26"
             ],
             [
              1,
              "#f0f921"
             ]
            ],
            "type": "surface"
           }
          ],
          "table": [
           {
            "cells": {
             "fill": {
              "color": "#EBF0F8"
             },
             "line": {
              "color": "white"
             }
            },
            "header": {
             "fill": {
              "color": "#C8D4E3"
             },
             "line": {
              "color": "white"
             }
            },
            "type": "table"
           }
          ]
         },
         "layout": {
          "annotationdefaults": {
           "arrowcolor": "#2a3f5f",
           "arrowhead": 0,
           "arrowwidth": 1
          },
          "autotypenumbers": "strict",
          "coloraxis": {
           "colorbar": {
            "outlinewidth": 0,
            "ticks": ""
           }
          },
          "colorscale": {
           "diverging": [
            [
             0,
             "#8e0152"
            ],
            [
             0.1,
             "#c51b7d"
            ],
            [
             0.2,
             "#de77ae"
            ],
            [
             0.3,
             "#f1b6da"
            ],
            [
             0.4,
             "#fde0ef"
            ],
            [
             0.5,
             "#f7f7f7"
            ],
            [
             0.6,
             "#e6f5d0"
            ],
            [
             0.7,
             "#b8e186"
            ],
            [
             0.8,
             "#7fbc41"
            ],
            [
             0.9,
             "#4d9221"
            ],
            [
             1,
             "#276419"
            ]
           ],
           "sequential": [
            [
             0,
             "#0d0887"
            ],
            [
             0.1111111111111111,
             "#46039f"
            ],
            [
             0.2222222222222222,
             "#7201a8"
            ],
            [
             0.3333333333333333,
             "#9c179e"
            ],
            [
             0.4444444444444444,
             "#bd3786"
            ],
            [
             0.5555555555555556,
             "#d8576b"
            ],
            [
             0.6666666666666666,
             "#ed7953"
            ],
            [
             0.7777777777777778,
             "#fb9f3a"
            ],
            [
             0.8888888888888888,
             "#fdca26"
            ],
            [
             1,
             "#f0f921"
            ]
           ],
           "sequentialminus": [
            [
             0,
             "#0d0887"
            ],
            [
             0.1111111111111111,
             "#46039f"
            ],
            [
             0.2222222222222222,
             "#7201a8"
            ],
            [
             0.3333333333333333,
             "#9c179e"
            ],
            [
             0.4444444444444444,
             "#bd3786"
            ],
            [
             0.5555555555555556,
             "#d8576b"
            ],
            [
             0.6666666666666666,
             "#ed7953"
            ],
            [
             0.7777777777777778,
             "#fb9f3a"
            ],
            [
             0.8888888888888888,
             "#fdca26"
            ],
            [
             1,
             "#f0f921"
            ]
           ]
          },
          "colorway": [
           "#636efa",
           "#EF553B",
           "#00cc96",
           "#ab63fa",
           "#FFA15A",
           "#19d3f3",
           "#FF6692",
           "#B6E880",
           "#FF97FF",
           "#FECB52"
          ],
          "font": {
           "color": "#2a3f5f"
          },
          "geo": {
           "bgcolor": "white",
           "lakecolor": "white",
           "landcolor": "#E5ECF6",
           "showlakes": true,
           "showland": true,
           "subunitcolor": "white"
          },
          "hoverlabel": {
           "align": "left"
          },
          "hovermode": "closest",
          "mapbox": {
           "style": "light"
          },
          "paper_bgcolor": "white",
          "plot_bgcolor": "#E5ECF6",
          "polar": {
           "angularaxis": {
            "gridcolor": "white",
            "linecolor": "white",
            "ticks": ""
           },
           "bgcolor": "#E5ECF6",
           "radialaxis": {
            "gridcolor": "white",
            "linecolor": "white",
            "ticks": ""
           }
          },
          "scene": {
           "xaxis": {
            "backgroundcolor": "#E5ECF6",
            "gridcolor": "white",
            "gridwidth": 2,
            "linecolor": "white",
            "showbackground": true,
            "ticks": "",
            "zerolinecolor": "white"
           },
           "yaxis": {
            "backgroundcolor": "#E5ECF6",
            "gridcolor": "white",
            "gridwidth": 2,
            "linecolor": "white",
            "showbackground": true,
            "ticks": "",
            "zerolinecolor": "white"
           },
           "zaxis": {
            "backgroundcolor": "#E5ECF6",
            "gridcolor": "white",
            "gridwidth": 2,
            "linecolor": "white",
            "showbackground": true,
            "ticks": "",
            "zerolinecolor": "white"
           }
          },
          "shapedefaults": {
           "line": {
            "color": "#2a3f5f"
           }
          },
          "ternary": {
           "aaxis": {
            "gridcolor": "white",
            "linecolor": "white",
            "ticks": ""
           },
           "baxis": {
            "gridcolor": "white",
            "linecolor": "white",
            "ticks": ""
           },
           "bgcolor": "#E5ECF6",
           "caxis": {
            "gridcolor": "white",
            "linecolor": "white",
            "ticks": ""
           }
          },
          "title": {
           "x": 0.05
          },
          "xaxis": {
           "automargin": true,
           "gridcolor": "white",
           "linecolor": "white",
           "ticks": "",
           "title": {
            "standoff": 15
           },
           "zerolinecolor": "white",
           "zerolinewidth": 2
          },
          "yaxis": {
           "automargin": true,
           "gridcolor": "white",
           "linecolor": "white",
           "ticks": "",
           "title": {
            "standoff": 15
           },
           "zerolinecolor": "white",
           "zerolinewidth": 2
          }
         }
        }
       }
      },
      "text/html": [
       "<div>                            <div id=\"6ef79e78-c581-426b-821a-2f06d13def93\" class=\"plotly-graph-div\" style=\"height:525px; width:100%;\"></div>            <script type=\"text/javascript\">                require([\"plotly\"], function(Plotly) {                    window.PLOTLYENV=window.PLOTLYENV || {};                                    if (document.getElementById(\"6ef79e78-c581-426b-821a-2f06d13def93\")) {                    Plotly.newPlot(                        \"6ef79e78-c581-426b-821a-2f06d13def93\",                        [{\"mode\":\"lines+markers\",\"type\":\"scatter\",\"x\":[78.0374,83.0124,100.0,100.0,72.3675,78.0374,null,0.0,27.9423,27.8046,-0.0,0.0,null,100.0,79.3386,69.4015,75.3601,100.0,100.0,null,40.649504437844165,52.34763491534599,55.06905440365178,38.098842708300225,27.94229036361957,27.804581795741896,null,35.4301,38.0988,27.9423,-0.0,-0.0,35.4301,null,0.0,27.8046,40.6495,42.3564,0.0,0.0,null,52.34763491534599,78.03743051750989,83.01243418121757,79.33862094684517,69.40149651909532,55.06905440365178,null,40.6495,42.3564,72.3675,78.0374,52.3476,40.6495,null,75.3601,69.4015,55.0691,38.0988,35.4301,75.3601,null,79.3386,100.0,100.0,83.0124,79.3386,null],\"y\":[73.4178,70.2132,71.8747,100.0,100.0,73.4178,null,32.9562,37.1656,67.2801,74.1318,32.9562,null,35.4998,39.5995,32.3086,0.0,0.0,35.4998,null,73.2382648947395,66.70378378327698,37.27898886003666,30.751132999145277,37.16557303060888,67.28014396473462,null,0.0,30.7511,37.1656,32.9562,0.0,0.0,null,74.1318,67.2801,73.2383,100.0,100.0,74.1318,null,66.70378378327698,73.41779900903606,70.21322339322631,39.599481293970314,32.30857204163232,37.27898886003666,null,73.2383,100.0,100.0,73.4178,66.7038,73.2383,null,0.0,32.3086,37.279,30.7511,0.0,0.0,null,39.5995,35.4998,71.8747,70.2132,39.5995,null]}],                        {\"template\":{\"data\":{\"bar\":[{\"error_x\":{\"color\":\"#2a3f5f\"},\"error_y\":{\"color\":\"#2a3f5f\"},\"marker\":{\"line\":{\"color\":\"#E5ECF6\",\"width\":0.5},\"pattern\":{\"fillmode\":\"overlay\",\"size\":10,\"solidity\":0.2}},\"type\":\"bar\"}],\"barpolar\":[{\"marker\":{\"line\":{\"color\":\"#E5ECF6\",\"width\":0.5},\"pattern\":{\"fillmode\":\"overlay\",\"size\":10,\"solidity\":0.2}},\"type\":\"barpolar\"}],\"carpet\":[{\"aaxis\":{\"endlinecolor\":\"#2a3f5f\",\"gridcolor\":\"white\",\"linecolor\":\"white\",\"minorgridcolor\":\"white\",\"startlinecolor\":\"#2a3f5f\"},\"baxis\":{\"endlinecolor\":\"#2a3f5f\",\"gridcolor\":\"white\",\"linecolor\":\"white\",\"minorgridcolor\":\"white\",\"startlinecolor\":\"#2a3f5f\"},\"type\":\"carpet\"}],\"choropleth\":[{\"colorbar\":{\"outlinewidth\":0,\"ticks\":\"\"},\"type\":\"choropleth\"}],\"contour\":[{\"colorbar\":{\"outlinewidth\":0,\"ticks\":\"\"},\"colorscale\":[[0.0,\"#0d0887\"],[0.1111111111111111,\"#46039f\"],[0.2222222222222222,\"#7201a8\"],[0.3333333333333333,\"#9c179e\"],[0.4444444444444444,\"#bd3786\"],[0.5555555555555556,\"#d8576b\"],[0.6666666666666666,\"#ed7953\"],[0.7777777777777778,\"#fb9f3a\"],[0.8888888888888888,\"#fdca26\"],[1.0,\"#f0f921\"]],\"type\":\"contour\"}],\"contourcarpet\":[{\"colorbar\":{\"outlinewidth\":0,\"ticks\":\"\"},\"type\":\"contourcarpet\"}],\"heatmap\":[{\"colorbar\":{\"outlinewidth\":0,\"ticks\":\"\"},\"colorscale\":[[0.0,\"#0d0887\"],[0.1111111111111111,\"#46039f\"],[0.2222222222222222,\"#7201a8\"],[0.3333333333333333,\"#9c179e\"],[0.4444444444444444,\"#bd3786\"],[0.5555555555555556,\"#d8576b\"],[0.6666666666666666,\"#ed7953\"],[0.7777777777777778,\"#fb9f3a\"],[0.8888888888888888,\"#fdca26\"],[1.0,\"#f0f921\"]],\"type\":\"heatmap\"}],\"heatmapgl\":[{\"colorbar\":{\"outlinewidth\":0,\"ticks\":\"\"},\"colorscale\":[[0.0,\"#0d0887\"],[0.1111111111111111,\"#46039f\"],[0.2222222222222222,\"#7201a8\"],[0.3333333333333333,\"#9c179e\"],[0.4444444444444444,\"#bd3786\"],[0.5555555555555556,\"#d8576b\"],[0.6666666666666666,\"#ed7953\"],[0.7777777777777778,\"#fb9f3a\"],[0.8888888888888888,\"#fdca26\"],[1.0,\"#f0f921\"]],\"type\":\"heatmapgl\"}],\"histogram\":[{\"marker\":{\"pattern\":{\"fillmode\":\"overlay\",\"size\":10,\"solidity\":0.2}},\"type\":\"histogram\"}],\"histogram2d\":[{\"colorbar\":{\"outlinewidth\":0,\"ticks\":\"\"},\"colorscale\":[[0.0,\"#0d0887\"],[0.1111111111111111,\"#46039f\"],[0.2222222222222222,\"#7201a8\"],[0.3333333333333333,\"#9c179e\"],[0.4444444444444444,\"#bd3786\"],[0.5555555555555556,\"#d8576b\"],[0.6666666666666666,\"#ed7953\"],[0.7777777777777778,\"#fb9f3a\"],[0.8888888888888888,\"#fdca26\"],[1.0,\"#f0f921\"]],\"type\":\"histogram2d\"}],\"histogram2dcontour\":[{\"colorbar\":{\"outlinewidth\":0,\"ticks\":\"\"},\"colorscale\":[[0.0,\"#0d0887\"],[0.1111111111111111,\"#46039f\"],[0.2222222222222222,\"#7201a8\"],[0.3333333333333333,\"#9c179e\"],[0.4444444444444444,\"#bd3786\"],[0.5555555555555556,\"#d8576b\"],[0.6666666666666666,\"#ed7953\"],[0.7777777777777778,\"#fb9f3a\"],[0.8888888888888888,\"#fdca26\"],[1.0,\"#f0f921\"]],\"type\":\"histogram2dcontour\"}],\"mesh3d\":[{\"colorbar\":{\"outlinewidth\":0,\"ticks\":\"\"},\"type\":\"mesh3d\"}],\"parcoords\":[{\"line\":{\"colorbar\":{\"outlinewidth\":0,\"ticks\":\"\"}},\"type\":\"parcoords\"}],\"pie\":[{\"automargin\":true,\"type\":\"pie\"}],\"scatter\":[{\"marker\":{\"colorbar\":{\"outlinewidth\":0,\"ticks\":\"\"}},\"type\":\"scatter\"}],\"scatter3d\":[{\"line\":{\"colorbar\":{\"outlinewidth\":0,\"ticks\":\"\"}},\"marker\":{\"colorbar\":{\"outlinewidth\":0,\"ticks\":\"\"}},\"type\":\"scatter3d\"}],\"scattercarpet\":[{\"marker\":{\"colorbar\":{\"outlinewidth\":0,\"ticks\":\"\"}},\"type\":\"scattercarpet\"}],\"scattergeo\":[{\"marker\":{\"colorbar\":{\"outlinewidth\":0,\"ticks\":\"\"}},\"type\":\"scattergeo\"}],\"scattergl\":[{\"marker\":{\"colorbar\":{\"outlinewidth\":0,\"ticks\":\"\"}},\"type\":\"scattergl\"}],\"scattermapbox\":[{\"marker\":{\"colorbar\":{\"outlinewidth\":0,\"ticks\":\"\"}},\"type\":\"scattermapbox\"}],\"scatterpolar\":[{\"marker\":{\"colorbar\":{\"outlinewidth\":0,\"ticks\":\"\"}},\"type\":\"scatterpolar\"}],\"scatterpolargl\":[{\"marker\":{\"colorbar\":{\"outlinewidth\":0,\"ticks\":\"\"}},\"type\":\"scatterpolargl\"}],\"scatterternary\":[{\"marker\":{\"colorbar\":{\"outlinewidth\":0,\"ticks\":\"\"}},\"type\":\"scatterternary\"}],\"surface\":[{\"colorbar\":{\"outlinewidth\":0,\"ticks\":\"\"},\"colorscale\":[[0.0,\"#0d0887\"],[0.1111111111111111,\"#46039f\"],[0.2222222222222222,\"#7201a8\"],[0.3333333333333333,\"#9c179e\"],[0.4444444444444444,\"#bd3786\"],[0.5555555555555556,\"#d8576b\"],[0.6666666666666666,\"#ed7953\"],[0.7777777777777778,\"#fb9f3a\"],[0.8888888888888888,\"#fdca26\"],[1.0,\"#f0f921\"]],\"type\":\"surface\"}],\"table\":[{\"cells\":{\"fill\":{\"color\":\"#EBF0F8\"},\"line\":{\"color\":\"white\"}},\"header\":{\"fill\":{\"color\":\"#C8D4E3\"},\"line\":{\"color\":\"white\"}},\"type\":\"table\"}]},\"layout\":{\"annotationdefaults\":{\"arrowcolor\":\"#2a3f5f\",\"arrowhead\":0,\"arrowwidth\":1},\"autotypenumbers\":\"strict\",\"coloraxis\":{\"colorbar\":{\"outlinewidth\":0,\"ticks\":\"\"}},\"colorscale\":{\"diverging\":[[0,\"#8e0152\"],[0.1,\"#c51b7d\"],[0.2,\"#de77ae\"],[0.3,\"#f1b6da\"],[0.4,\"#fde0ef\"],[0.5,\"#f7f7f7\"],[0.6,\"#e6f5d0\"],[0.7,\"#b8e186\"],[0.8,\"#7fbc41\"],[0.9,\"#4d9221\"],[1,\"#276419\"]],\"sequential\":[[0.0,\"#0d0887\"],[0.1111111111111111,\"#46039f\"],[0.2222222222222222,\"#7201a8\"],[0.3333333333333333,\"#9c179e\"],[0.4444444444444444,\"#bd3786\"],[0.5555555555555556,\"#d8576b\"],[0.6666666666666666,\"#ed7953\"],[0.7777777777777778,\"#fb9f3a\"],[0.8888888888888888,\"#fdca26\"],[1.0,\"#f0f921\"]],\"sequentialminus\":[[0.0,\"#0d0887\"],[0.1111111111111111,\"#46039f\"],[0.2222222222222222,\"#7201a8\"],[0.3333333333333333,\"#9c179e\"],[0.4444444444444444,\"#bd3786\"],[0.5555555555555556,\"#d8576b\"],[0.6666666666666666,\"#ed7953\"],[0.7777777777777778,\"#fb9f3a\"],[0.8888888888888888,\"#fdca26\"],[1.0,\"#f0f921\"]]},\"colorway\":[\"#636efa\",\"#EF553B\",\"#00cc96\",\"#ab63fa\",\"#FFA15A\",\"#19d3f3\",\"#FF6692\",\"#B6E880\",\"#FF97FF\",\"#FECB52\"],\"font\":{\"color\":\"#2a3f5f\"},\"geo\":{\"bgcolor\":\"white\",\"lakecolor\":\"white\",\"landcolor\":\"#E5ECF6\",\"showlakes\":true,\"showland\":true,\"subunitcolor\":\"white\"},\"hoverlabel\":{\"align\":\"left\"},\"hovermode\":\"closest\",\"mapbox\":{\"style\":\"light\"},\"paper_bgcolor\":\"white\",\"plot_bgcolor\":\"#E5ECF6\",\"polar\":{\"angularaxis\":{\"gridcolor\":\"white\",\"linecolor\":\"white\",\"ticks\":\"\"},\"bgcolor\":\"#E5ECF6\",\"radialaxis\":{\"gridcolor\":\"white\",\"linecolor\":\"white\",\"ticks\":\"\"}},\"scene\":{\"xaxis\":{\"backgroundcolor\":\"#E5ECF6\",\"gridcolor\":\"white\",\"gridwidth\":2,\"linecolor\":\"white\",\"showbackground\":true,\"ticks\":\"\",\"zerolinecolor\":\"white\"},\"yaxis\":{\"backgroundcolor\":\"#E5ECF6\",\"gridcolor\":\"white\",\"gridwidth\":2,\"linecolor\":\"white\",\"showbackground\":true,\"ticks\":\"\",\"zerolinecolor\":\"white\"},\"zaxis\":{\"backgroundcolor\":\"#E5ECF6\",\"gridcolor\":\"white\",\"gridwidth\":2,\"linecolor\":\"white\",\"showbackground\":true,\"ticks\":\"\",\"zerolinecolor\":\"white\"}},\"shapedefaults\":{\"line\":{\"color\":\"#2a3f5f\"}},\"ternary\":{\"aaxis\":{\"gridcolor\":\"white\",\"linecolor\":\"white\",\"ticks\":\"\"},\"baxis\":{\"gridcolor\":\"white\",\"linecolor\":\"white\",\"ticks\":\"\"},\"bgcolor\":\"#E5ECF6\",\"caxis\":{\"gridcolor\":\"white\",\"linecolor\":\"white\",\"ticks\":\"\"}},\"title\":{\"x\":0.05},\"xaxis\":{\"automargin\":true,\"gridcolor\":\"white\",\"linecolor\":\"white\",\"ticks\":\"\",\"title\":{\"standoff\":15},\"zerolinecolor\":\"white\",\"zerolinewidth\":2},\"yaxis\":{\"automargin\":true,\"gridcolor\":\"white\",\"linecolor\":\"white\",\"ticks\":\"\",\"title\":{\"standoff\":15},\"zerolinecolor\":\"white\",\"zerolinewidth\":2}}}},                        {\"responsive\": true}                    ).then(function(){\n",
       "                            \n",
       "var gd = document.getElementById('6ef79e78-c581-426b-821a-2f06d13def93');\n",
       "var x = new MutationObserver(function (mutations, observer) {{\n",
       "        var display = window.getComputedStyle(gd).display;\n",
       "        if (!display || display === 'none') {{\n",
       "            console.log([gd, 'removed!']);\n",
       "            Plotly.purge(gd);\n",
       "            observer.disconnect();\n",
       "        }}\n",
       "}});\n",
       "\n",
       "// Listen for the removal of the full notebook cells\n",
       "var notebookContainer = gd.closest('#notebook-container');\n",
       "if (notebookContainer) {{\n",
       "    x.observe(notebookContainer, {childList: true});\n",
       "}}\n",
       "\n",
       "// Listen for the clearing of the current output cell\n",
       "var outputEl = gd.closest('.output');\n",
       "if (outputEl) {{\n",
       "    x.observe(outputEl, {childList: true});\n",
       "}}\n",
       "\n",
       "                        })                };                });            </script>        </div>"
      ]
     },
     "metadata": {},
     "output_type": "display_data"
    }
   ],
   "source": [
    "polygons = voronoi_polygons(new_points)\n",
    "cropped_polygons = crop_axis(polygons, range_x=(0, INPUT_WIDTH), range_y=(0, INPUT_HEIGHT))\n",
    "x_polygs, y_polygs = form_x_y_polygons(cropped_polygons)\n",
    "\n",
    "fig = go.Figure(go.Scatter(x=x_polygs, y=y_polygs, mode='lines+markers'))\n",
    "fig.show()"
   ]
  },
  {
   "cell_type": "code",
   "execution_count": 30,
   "id": "73bfedc4",
   "metadata": {
    "ExecuteTime": {
     "end_time": "2022-01-26T16:57:51.991110Z",
     "start_time": "2022-01-26T16:57:51.907131Z"
    }
   },
   "outputs": [
    {
     "data": {
      "application/vnd.plotly.v1+json": {
       "config": {
        "plotlyServerURL": "https://plot.ly"
       },
       "data": [
        {
         "mode": "lines",
         "type": "scatter",
         "x": [
          78.0374,
          78.58315635484529,
          79.12600020612521,
          79.66301905027433,
          80.19130038372721,
          80.70793170291849,
          81.21000050428275,
          81.69459428425459,
          82.15880053926861,
          82.59970676575941,
          82.59970676575941,
          83.01303283997143,
          83.38902815738867,
          83.71657449330489,
          83.98455362301391,
          84.1818473218096,
          84.29733736498574,
          84.31990552783616,
          84.23843358565466,
          84.04180331373509,
          84.04180331373509,
          83.7258627265213,
          83.31432479505763,
          82.83786872953834,
          82.32717374015778,
          81.8129190371103,
          81.32578383059023,
          80.8964473307919,
          80.55558874790967,
          80.33388729213786,
          80.33388729213786,
          80.25413422498461,
          80.30756901321341,
          80.47754317490144,
          80.74740822812598,
          81.10051569096427,
          81.52021708149357,
          81.98986391779113,
          82.49280771793418,
          83.0124,
          83.0124,
          83.31015946983982,
          83.62406073840185,
          83.97024560440829,
          84.36485586658128,
          84.8240333236431,
          85.36391977431586,
          86.00065701732183,
          86.75038685138318,
          87.62925107522213,
          87.62925107522213,
          88.64087842517603,
          89.7388453880431,
          90.86421538823667,
          91.95805185017015,
          92.96141819825688,
          93.81537785691025,
          94.46099425054365,
          94.83933080357042,
          94.89145094040394,
          94.89145094040394,
          94.58302255200486,
          93.97813139552302,
          93.16546769465542,
          92.23372167309917,
          91.27158355455131,
          90.36774356270891,
          89.61089192126904,
          89.08971885392879,
          88.89291458438521,
          88.89291458438521,
          89.08673839124705,
          89.64772577277003,
          90.52998128212148,
          91.68760947246871,
          93.07471489697916,
          94.64540210882012,
          96.35377566115902,
          98.1539401071632,
          100,
          100,
          100,
          100,
          72.3675,
          72.3675,
          73.29927868488937,
          74.22394959487264,
          75.13440495504352,
          76.02353699049588,
          76.88423792632356,
          77.70939998762039,
          78.49191539948018,
          79.22467638699678,
          79.90057517526401,
          79.90057517526401,
          80.51141984167663,
          81.04468187283327,
          81.48674860763342,
          81.82400738497661,
          82.04284554376238,
          82.1296504228903,
          82.07080936125988,
          81.85270969777063,
          81.46173877132212,
          81.46173877132212,
          80.89408436615064,
          80.18513604783969,
          79.38008382730948,
          78.52411771548026,
          77.66242772327229,
          76.84020386160579,
          76.10263614140104,
          75.49491457357826,
          75.0622291690577,
          75.0622291690577,
          74.8381600077873,
          74.80984744582577,
          74.95282190825948,
          75.24261382017484,
          75.65475360665822,
          76.16477169279605,
          76.74819850367467,
          77.38056446438054,
          78.0374,
          null,
          0,
          0.672500957386214,
          1.3738315655462645,
          2.1328214752539876,
          2.97830033728322,
          3.9390978024077983,
          5.044043521401557,
          6.321967145038334,
          7.801698324091966,
          9.51206670933629,
          9.51206670933629,
          11.458080813593504,
          13.549464597879298,
          15.6721208852577,
          17.71195249879276,
          19.55486226154851,
          21.086752996589006,
          22.193527526978293,
          22.7610886757804,
          22.675339266059378,
          22.675339266059378,
          21.870310085876806,
          20.47254378328442,
          18.65671097133149,
          16.597482263067274,
          14.46952827154105,
          12.447519609802086,
          10.706126890899654,
          9.420020727883017,
          8.763871733801448,
          8.763871733801448,
          8.868338238381476,
          9.688029438058697,
          11.133542245945954,
          13.1154735751561,
          15.54442033880199,
          18.33097944999647,
          21.385747821852398,
          24.619322367482624,
          27.9423,
          27.9423,
          27.091550734567196,
          26.25023495978339,
          25.427786166297572,
          24.633637844758734,
          23.877223485815875,
          23.167976580117976,
          22.515330618314046,
          21.928719091053072,
          21.417575488984046,
          21.417575488984046,
          20.990778979240893,
          20.654991434897294,
          20.416320405511826,
          20.280873440643084,
          20.254758089849677,
          20.34408190269019,
          20.554952428723222,
          20.89347721750737,
          21.365763818601234,
          21.365763818601234,
          21.97139810161093,
          22.683879216332738,
          23.470184632610437,
          24.29729182028783,
          25.13217824920871,
          25.94182138921687,
          26.693198710156107,
          27.35328768187022,
          27.889065774203004,
          27.889065774203004,
          28.275927793682385,
          28.522937893572852,
          28.647577563823013,
          28.667328294381484,
          28.599671575196876,
          28.462088896217807,
          28.272061747392897,
          28.047071618670756,
          27.8046,
          27.8046,
          26.907787958507857,
          25.984839685588064,
          25.009618949812946,
          23.955989519754837,
          22.797815163986083,
          21.50895965107902,
          20.063286749605993,
          18.43466022813933,
          16.596943855251375,
          16.596943855251375,
          14.547540856021575,
          12.378012281557835,
          10.203458639475155,
          8.138980437388545,
          6.299678182913013,
          4.80065238366357,
          3.7570035472552235,
          3.2838321813029805,
          3.496238793421851,
          3.496238793421851,
          4.459714977684175,
          6.041316673991635,
          8.058490908703238,
          10.328684708177995,
          12.669345098774922,
          14.897919106853024,
          16.83185375877132,
          18.288596080888816,
          19.08559309956453,
          19.08559309956453,
          19.086315453006566,
          18.338328226819478,
          16.935220118456897,
          14.970579825372461,
          12.537996045019817,
          9.731057474852609,
          6.643352812324478,
          3.36847075488906,
          0,
          0,
          0,
          null,
          100,
          99.11458201877078,
          98.21720158658336,
          97.29589625247948,
          96.3387035655009,
          95.33366107468939,
          94.26880632908676,
          93.13217687773474,
          91.91181026967514,
          90.59574405394972,
          90.59574405394972,
          89.1854466856633,
          87.73611024417309,
          86.3163577148993,
          84.99481208326216,
          83.84009633468192,
          82.92083345457878,
          82.30564642837304,
          82.0631582414849,
          82.26199187933459,
          82.26199187933459,
          82.9395314173342,
          84.0082052908633,
          85.3492030252932,
          86.8437141459953,
          88.37292817834104,
          89.8180346477017,
          91.06022307944872,
          91.98068299895345,
          92.46060393158731,
          92.46060393158731,
          92.41133547185416,
          91.86486749078816,
          90.88334992855583,
          89.5289327253238,
          87.86376582125871,
          85.94999915652718,
          83.84978267129581,
          81.6252663057312,
          79.3386,
          79.3386,
          79.58632728436295,
          79.81966077720867,
          80.02420668701977,
          80.18557122227898,
          80.289360591469,
          80.32118100307252,
          80.26663866557229,
          80.11133978745096,
          79.84089057719126,
          79.84089057719126,
          79.44869501667205,
          78.95934818135696,
          78.40524292010569,
          77.81877208177802,
          77.23232851523373,
          76.67830506933254,
          76.18909459293427,
          75.79708993489864,
          75.53468394408542,
          75.53468394408542,
          75.42273751961395,
          75.43598376164192,
          75.53762382058663,
          75.69085884686528,
          75.8588899908952,
          76.00491840309363,
          76.09214523387786,
          76.08377163366515,
          75.94299875287277,
          75.94299875287277,
          75.6422941822218,
          75.19119127364877,
          74.60848981939384,
          73.9129896116973,
          73.12349044279944,
          72.25879210494051,
          71.33769439036078,
          70.37899709130052,
          69.4015,
          69.4015,
          70.48553112335192,
          71.56237944464709,
          72.62486216182862,
          73.66579647283973,
          74.67799957562364,
          75.65428866812353,
          76.58748094828259,
          77.47039361404404,
          78.29584386335105,
          78.29584386335105,
          79.05442863403208,
          79.72786382345674,
          80.29564506887984,
          80.73726800755617,
          81.0322282767406,
          81.16002151368794,
          81.10014335565303,
          80.8320894398907,
          80.33535540365577,
          80.33535540365577,
          79.60271961870428,
          78.68009139479726,
          77.62666277619682,
          76.50162580716517,
          75.36417253196454,
          74.27349499485706,
          73.28878524010496,
          72.46923531197041,
          71.87403725471562,
          71.87403725471562,
          71.547266958649,
          71.47253569826414,
          71.61833859410075,
          71.95317076669866,
          72.44552733659764,
          73.06390342433747,
          73.77679415045796,
          74.55269463549887,
          75.3601,
          75.3601,
          100,
          100,
          100,
          null,
          40.6495,
          40.84730020407281,
          41.052769301049835,
          41.27357618383527,
          41.517389745333304,
          41.791878878448166,
          42.10471247608404,
          42.46355943114514,
          42.876088636535684,
          43.34996898515986,
          43.34996898515986,
          43.88701283585795,
          44.46560641121462,
          45.05827939975055,
          45.63756148998646,
          46.175982370443066,
          46.64607172964109,
          47.020359256101244,
          47.27137463834424,
          47.37164756489079,
          47.37164756489079,
          47.30540936960258,
          47.1036979677052,
          46.80925291976517,
          46.46481378634905,
          46.11312012802336,
          45.79691150535467,
          45.558927478909524,
          45.44190760925446,
          45.488591456956016,
          45.488591456956016,
          45.73077229882106,
          46.15645827661783,
          46.742711248354844,
          47.466593072040624,
          48.30516560568372,
          49.23549070729266,
          50.23463023487601,
          51.27964604644227,
          52.3476,
          52.3476,
          51.86325358636089,
          51.387767963799284,
          50.930003923392626,
          50.498822256218375,
          50.10308375335403,
          49.751649205877065,
          49.45337940486496,
          49.217135141395175,
          49.05177720654521,
          49.05177720654521,
          48.96353510130123,
          48.948113166284365,
          48.998584452024375,
          49.108022009051076,
          49.26949888789429,
          49.47608813908378,
          49.7208628131494,
          49.99689596062093,
          50.297260632028184,
          50.297260632028184,
          50.615407797452775,
          50.94630010518366,
          51.28527812306157,
          51.62768241892727,
          51.96885356062151,
          52.30413211598505,
          52.62885865285865,
          52.93837373908307,
          53.22801794249906,
          53.22801794249906,
          53.4943626680659,
          53.73890266921703,
          53.96436353650442,
          54.173470860480016,
          54.368950231695806,
          54.553527240703716,
          54.72992747805576,
          54.90087653430386,
          55.0691,
          55.0691,
          54.09514980699241,
          53.11495070703692,
          52.122253793185564,
          51.11081015849042,
          50.07437089600357,
          49.00668709877708,
          47.901509859863026,
          46.75259027231347,
          45.553679429180505,
          45.553679429180505,
          44.30874681618236,
          43.062635489702025,
          41.8704068987886,
          40.787122492491264,
          39.86784371985914,
          39.16763202994138,
          38.74154887178713,
          38.64465569444551,
          38.93201394696568,
          38.93201394696568,
          39.63235401919913,
          40.66908206420683,
          41.93927317585206,
          43.34000244799812,
          44.76834497450831,
          46.12137584924594,
          47.296170166074326,
          48.18980301885675,
          48.699349501456524,
          48.699349501456524,
          48.748057586098966,
          48.36386675845756,
          47.60088938256777,
          46.51323782246507,
          45.15502444218495,
          43.5803616057629,
          41.84336167723441,
          39.99813702063494,
          38.0988,
          38.0988,
          38.06728915389555,
          38.02528440760496,
          37.962291860941995,
          37.86781761372052,
          37.73136776575434,
          37.5424484168573,
          37.29056566684322,
          36.965225615525924,
          36.55593436271925,
          36.55593436271925,
          36.059160608526454,
          35.49922345420867,
          34.90740460131641,
          34.31498575140024,
          33.75324860601072,
          33.2534748666984,
          32.84694623501382,
          32.56494441250753,
          32.438751100730094,
          32.438751100730094,
          32.48721037085975,
          32.679415772585564,
          32.97202322522428,
          33.321688648092625,
          33.68506796050738,
          34.018817081785265,
          34.27959193124305,
          34.42404842819748,
          34.4088424919653,
          34.4088424919653,
          34.20161343519694,
          33.81393414387761,
          33.26836089732616,
          32.58744997486147,
          31.79375765580242,
          30.909840219467867,
          29.9582539451767,
          28.961555112247787,
          27.9423,
          27.9423,
          27.091550734567196,
          26.25023495978339,
          25.427786166297572,
          24.633637844758734,
          23.877223485815875,
          23.167976580117976,
          22.515330618314046,
          21.928719091053072,
          21.417575488984046,
          21.417575488984046,
          20.990778979240893,
          20.654991434897294,
          20.416320405511826,
          20.280873440643084,
          20.254758089849677,
          20.34408190269019,
          20.554952428723222,
          20.89347721750737,
          21.365763818601234,
          21.365763818601234,
          21.97139810161093,
          22.683879216332738,
          23.470184632610437,
          24.29729182028783,
          25.13217824920871,
          25.94182138921687,
          26.693198710156107,
          27.35328768187022,
          27.889065774203004,
          27.889065774203004,
          28.275927793682385,
          28.522937893572852,
          28.647577563823013,
          28.667328294381484,
          28.599671575196876,
          28.462088896217807,
          28.272061747392897,
          28.047071618670756,
          27.8046,
          null,
          35.4301,
          34.940566353180095,
          34.46008209593968,
          33.99769661785822,
          33.562459308515194,
          33.1634195574901,
          32.80962675436241,
          32.51013028871161,
          32.27397955011716,
          32.110223928158575,
          32.110223928158575,
          32.02516878528594,
          32.01414337543195,
          32.06973292539986,
          32.18452266199299,
          32.35109781201463,
          32.562043602268055,
          32.809945259556585,
          33.0873880106835,
          33.38695708245209,
          33.38695708245209,
          33.70178311918827,
          34.02717843530846,
          34.35900076275163,
          34.69310783345681,
          35.025357379363015,
          35.35160713240924,
          35.66771482453453,
          35.96953818767787,
          36.25293495377828,
          36.25293495377828,
          36.5148711747313,
          36.756746182258624,
          36.981067628038446,
          37.19034316374899,
          37.38708044106848,
          37.5737871116751,
          37.75297082724709,
          37.92713923946265,
          38.0988,
          38.0988,
          38.06728915389555,
          38.02528440760496,
          37.962291860941995,
          37.86781761372052,
          37.73136776575434,
          37.5424484168573,
          37.29056566684322,
          36.965225615525924,
          36.55593436271925,
          36.55593436271925,
          36.059160608526454,
          35.49922345420867,
          34.90740460131641,
          34.31498575140024,
          33.75324860601072,
          33.2534748666984,
          32.84694623501382,
          32.56494441250753,
          32.438751100730094,
          32.438751100730094,
          32.48721037085975,
          32.679415772585564,
          32.97202322522428,
          33.321688648092625,
          33.68506796050738,
          34.018817081785265,
          34.27959193124305,
          34.42404842819748,
          34.4088424919653,
          34.4088424919653,
          34.20161343519694,
          33.81393414387761,
          33.26836089732616,
          32.58744997486147,
          31.79375765580242,
          30.909840219467867,
          29.9582539451767,
          28.961555112247787,
          27.9423,
          27.9423,
          24.619322367482624,
          21.385747821852398,
          18.33097944999647,
          15.54442033880199,
          13.1154735751561,
          11.133542245945954,
          9.688029438058697,
          8.868338238381476,
          8.763871733801448,
          8.763871733801448,
          9.420020727883017,
          10.706126890899654,
          12.447519609802086,
          14.46952827154105,
          16.597482263067274,
          18.65671097133149,
          20.47254378328442,
          21.870310085876806,
          22.675339266059378,
          22.675339266059378,
          22.7610886757804,
          22.193527526978293,
          21.086752996589006,
          19.55486226154851,
          17.71195249879276,
          15.6721208852577,
          13.549464597879298,
          11.458080813593504,
          9.51206670933629,
          9.51206670933629,
          7.801698324091966,
          6.321967145038334,
          5.044043521401557,
          3.9390978024077983,
          2.97830033728322,
          2.1328214752539876,
          1.3738315655462645,
          0.672500957386214,
          0,
          0,
          0,
          0,
          35.4301,
          null,
          0,
          3.36847075488906,
          6.643352812324478,
          9.731057474852609,
          12.537996045019817,
          14.970579825372461,
          16.935220118456897,
          18.338328226819478,
          19.086315453006566,
          19.08559309956453,
          19.08559309956453,
          18.288596080888816,
          16.83185375877132,
          14.897919106853024,
          12.669345098774922,
          10.328684708177995,
          8.058490908703238,
          6.041316673991635,
          4.459714977684175,
          3.496238793421851,
          3.496238793421851,
          3.2838321813029805,
          3.7570035472552235,
          4.80065238366357,
          6.299678182913013,
          8.138980437388545,
          10.203458639475155,
          12.378012281557835,
          14.547540856021575,
          16.596943855251375,
          16.596943855251375,
          18.43466022813933,
          20.063286749605993,
          21.50895965107902,
          22.797815163986083,
          23.955989519754837,
          25.009618949812946,
          25.984839685588064,
          26.907787958507857,
          27.8046,
          27.8046,
          27.53290152025929,
          27.273628418849928,
          27.03920607410321,
          26.842059864350464,
          26.694615167923025,
          26.609297363152216,
          26.598531828369367,
          26.674743941905795,
          26.850359082092837,
          26.850359082092837,
          27.132183306274477,
          27.504545387845436,
          27.946154779213057,
          28.43572093278471,
          28.951953300967787,
          29.473561336169634,
          29.979254490797622,
          30.447742217259137,
          30.85773396796153,
          30.85773396796153,
          31.19489740964677,
          31.472733066395254,
          31.71169967662193,
          31.932255978741786,
          32.1548607111698,
          32.39997261232095,
          32.68805042061022,
          33.03955287445256,
          33.474938712262976,
          33.474938712262976,
          34.009324621194985,
          34.63645908335637,
          35.34474852959345,
          36.12259939075256,
          36.95841809768002,
          37.840611081222164,
          38.75758477222533,
          39.69774560153583,
          40.6495,
          40.6495,
          39.62850872783589,
          38.620847835182545,
          37.63984770155066,
          36.69883870645099,
          35.811151229394284,
          34.990115649891266,
          34.24906234745268,
          33.60132170158927,
          33.060224091811776,
          33.060224091811776,
          32.63713946102554,
          32.33559600571446,
          32.15716148575696,
          32.10340366103153,
          32.17589029141664,
          32.37618913679077,
          32.70586795703239,
          33.166494512019966,
          33.75963656163197,
          33.75963656163197,
          34.481298056942435,
          35.305227713807646,
          36.1996104392794,
          37.13263114040952,
          38.07247472424985,
          38.987326097852204,
          39.84537016826841,
          40.61479184255029,
          41.26377602774967,
          41.26377602774967,
          41.76862963866956,
          42.13814762111773,
          42.38924692865317,
          42.53884451483481,
          42.60385733322164,
          42.6012023373726,
          42.54779648084667,
          42.46055671720282,
          42.3564,
          42.3564,
          0,
          0,
          0,
          null,
          52.3476,
          53.59966691236757,
          54.862984499905224,
          56.148803437782995,
          57.46837440117092,
          58.83294806523911,
          60.25377510515759,
          61.74210619609643,
          63.3091920132257,
          64.96628323171545,
          64.96628323171545,
          66.70955060477121,
          68.47484519774046,
          70.1829381540061,
          71.75460061695104,
          73.11060372995821,
          74.17171863641056,
          74.858716479691,
          75.09236840318246,
          74.79344555026785,
          74.79344555026785,
          73.91987127921517,
          72.57817780783276,
          70.91204956881404,
          69.06517099485235,
          67.18122651864114,
          65.40390057287377,
          63.876877590243666,
          62.74384200344422,
          62.14847824516883,
          62.14847824516883,
          62.19790563412092,
          62.85298303304411,
          64.03800419069196,
          65.67726285581811,
          67.6950527771762,
          70.0156677035198,
          72.56340138360255,
          75.26254756617809,
          78.0374,
          78.0374,
          78.58315635484529,
          79.12600020612521,
          79.66301905027433,
          80.19130038372721,
          80.70793170291849,
          81.21000050428275,
          81.69459428425459,
          82.15880053926861,
          82.59970676575941,
          82.59970676575941,
          83.01303283997143,
          83.38902815738867,
          83.71657449330489,
          83.98455362301391,
          84.1818473218096,
          84.29733736498574,
          84.31990552783616,
          84.23843358565466,
          84.04180331373509,
          84.04180331373509,
          83.7258627265213,
          83.31432479505763,
          82.83786872953834,
          82.32717374015778,
          81.8129190371103,
          81.32578383059023,
          80.8964473307919,
          80.55558874790967,
          80.33388729213786,
          80.33388729213786,
          80.25413422498461,
          80.30756901321341,
          80.47754317490144,
          80.74740822812598,
          81.10051569096427,
          81.52021708149357,
          81.98986391779113,
          82.49280771793418,
          83.0124,
          83.0124,
          82.21195383642855,
          81.41743100101672,
          80.63475482192408,
          79.86984862731019,
          79.12863574533468,
          78.41703950415713,
          77.74098323193716,
          77.10639025683435,
          76.51918390700827,
          76.51918390700827,
          75.98654987948714,
          75.52072334677374,
          75.13520185023933,
          74.84348293125525,
          74.65906413119289,
          74.59544299142355,
          74.66611705331862,
          74.88458385824939,
          75.2643409475872,
          75.2643409475872,
          75.80972041548085,
          76.4883925671891,
          77.25886226074802,
          78.07963435419371,
          78.90921370556242,
          79.70610517289023,
          80.42881361421328,
          81.03584388756776,
          81.4857008509898,
          81.4857008509898,
          81.74748426491496,
          81.83267349937677,
          81.7633428268081,
          81.56156651964189,
          81.24941885031105,
          80.84897409124851,
          80.38230651488722,
          79.87149039366007,
          79.3386,
          79.3386,
          79.58632728436295,
          79.81966077720867,
          80.02420668701977,
          80.18557122227898,
          80.289360591469,
          80.32118100307252,
          80.26663866557229,
          80.11133978745096,
          79.84089057719126,
          79.84089057719126,
          79.44869501667205,
          78.95934818135696,
          78.40524292010569,
          77.81877208177802,
          77.23232851523373,
          76.67830506933254,
          76.18909459293427,
          75.79708993489864,
          75.53468394408542,
          75.53468394408542,
          75.42273751961395,
          75.43598376164192,
          75.53762382058663,
          75.69085884686528,
          75.8588899908952,
          76.00491840309363,
          76.09214523387786,
          76.08377163366515,
          75.94299875287277,
          75.94299875287277,
          75.6422941822218,
          75.19119127364877,
          74.60848981939384,
          73.9129896116973,
          73.12349044279944,
          72.25879210494051,
          71.33769439036078,
          70.37899709130052,
          69.4015,
          69.4015,
          69.3170543458594,
          69.2140897871272,
          69.07408741921166,
          68.87852833752117,
          68.60889363746408,
          68.24666441444872,
          67.77332176388344,
          67.17034678117662,
          66.41922056173658,
          66.41922056173658,
          65.51446142693335,
          64.50273660198386,
          63.4437505380666,
          62.39720768636015,
          61.4228124980431,
          60.580269424293974,
          59.92928291629137,
          59.529557425213824,
          59.44079740223992,
          59.44079740223992,
          59.698816132377345,
          60.24386223595046,
          60.9922931671127,
          61.86046638001754,
          62.764739328818465,
          63.62146946766894,
          64.34701425072244,
          64.85773113213241,
          65.06997756605239,
          65.06997756605239,
          64.92112759748679,
          64.43262163484428,
          63.64691667738442,
          62.606469724366846,
          61.35373777505119,
          59.93117782869706,
          58.38124688456407,
          56.74640194191184,
          55.0691,
          null,
          40.6495,
          39.62850872783589,
          38.620847835182545,
          37.63984770155066,
          36.69883870645099,
          35.811151229394284,
          34.990115649891266,
          34.24906234745268,
          33.60132170158927,
          33.060224091811776,
          33.060224091811776,
          32.63713946102554,
          32.33559600571446,
          32.15716148575696,
          32.10340366103153,
          32.17589029141664,
          32.37618913679077,
          32.70586795703239,
          33.166494512019966,
          33.75963656163197,
          33.75963656163197,
          34.481298056942435,
          35.305227713807646,
          36.1996104392794,
          37.13263114040952,
          38.07247472424985,
          38.987326097852204,
          39.84537016826841,
          40.61479184255029,
          41.26377602774967,
          41.26377602774967,
          41.76862963866956,
          42.13814762111773,
          42.38924692865317,
          42.53884451483481,
          42.60385733322164,
          42.6012023373726,
          42.54779648084667,
          42.46055671720282,
          42.3564,
          42.3564,
          72.3675,
          72.3675,
          73.29927868488937,
          74.22394959487264,
          75.13440495504352,
          76.02353699049588,
          76.88423792632356,
          77.70939998762039,
          78.49191539948018,
          79.22467638699678,
          79.90057517526401,
          79.90057517526401,
          80.51141984167663,
          81.04468187283327,
          81.48674860763342,
          81.82400738497661,
          82.04284554376238,
          82.1296504228903,
          82.07080936125988,
          81.85270969777063,
          81.46173877132212,
          81.46173877132212,
          80.89408436615064,
          80.18513604783969,
          79.38008382730948,
          78.52411771548026,
          77.66242772327229,
          76.84020386160579,
          76.10263614140104,
          75.49491457357826,
          75.0622291690577,
          75.0622291690577,
          74.8381600077873,
          74.80984744582577,
          74.95282190825948,
          75.24261382017484,
          75.65475360665822,
          76.16477169279605,
          76.74819850367467,
          77.38056446438054,
          78.0374,
          78.0374,
          75.26254756617809,
          72.56340138360255,
          70.0156677035198,
          67.6950527771762,
          65.67726285581811,
          64.03800419069196,
          62.85298303304411,
          62.19790563412092,
          62.14847824516883,
          62.14847824516883,
          62.74384200344422,
          63.876877590243666,
          65.40390057287377,
          67.18122651864114,
          69.06517099485235,
          70.91204956881404,
          72.57817780783276,
          73.91987127921517,
          74.79344555026785,
          74.79344555026785,
          75.09236840318246,
          74.858716479691,
          74.17171863641056,
          73.11060372995821,
          71.75460061695104,
          70.1829381540061,
          68.47484519774046,
          66.70955060477121,
          64.96628323171545,
          64.96628323171545,
          63.3091920132257,
          61.74210619609643,
          60.25377510515759,
          58.83294806523911,
          57.46837440117092,
          56.148803437782995,
          54.862984499905224,
          53.59966691236757,
          52.3476,
          52.3476,
          51.27964604644227,
          50.23463023487601,
          49.23549070729266,
          48.30516560568372,
          47.466593072040624,
          46.742711248354844,
          46.15645827661783,
          45.73077229882106,
          45.488591456956016,
          45.488591456956016,
          45.44190760925446,
          45.558927478909524,
          45.79691150535467,
          46.11312012802336,
          46.46481378634905,
          46.80925291976517,
          47.1036979677052,
          47.30540936960258,
          47.37164756489079,
          47.37164756489079,
          47.27137463834424,
          47.020359256101244,
          46.64607172964109,
          46.175982370443066,
          45.63756148998646,
          45.05827939975055,
          44.46560641121462,
          43.88701283585795,
          43.34996898515986,
          43.34996898515986,
          42.876088636535684,
          42.46355943114514,
          42.10471247608404,
          41.791878878448166,
          41.517389745333304,
          41.27357618383527,
          41.052769301049835,
          40.84730020407281,
          40.6495,
          null,
          75.3601,
          74.55269463549887,
          73.77679415045796,
          73.06390342433747,
          72.44552733659764,
          71.95317076669866,
          71.61833859410075,
          71.47253569826414,
          71.547266958649,
          71.87403725471562,
          71.87403725471562,
          72.46923531197041,
          73.28878524010496,
          74.27349499485706,
          75.36417253196454,
          76.50162580716517,
          77.62666277619682,
          78.68009139479726,
          79.60271961870428,
          80.33535540365577,
          80.33535540365577,
          80.8320894398907,
          81.10014335565303,
          81.16002151368794,
          81.0322282767406,
          80.73726800755617,
          80.29564506887984,
          79.72786382345674,
          79.05442863403208,
          78.29584386335105,
          78.29584386335105,
          77.47039361404404,
          76.58748094828259,
          75.65428866812353,
          74.67799957562364,
          73.66579647283973,
          72.62486216182862,
          71.56237944464709,
          70.48553112335192,
          69.4015,
          69.4015,
          69.3170543458594,
          69.2140897871272,
          69.07408741921166,
          68.87852833752117,
          68.60889363746408,
          68.24666441444872,
          67.77332176388344,
          67.17034678117662,
          66.41922056173658,
          66.41922056173658,
          65.51446142693335,
          64.50273660198386,
          63.4437505380666,
          62.39720768636015,
          61.4228124980431,
          60.580269424293974,
          59.92928291629137,
          59.529557425213824,
          59.44079740223992,
          59.44079740223992,
          59.698816132377345,
          60.24386223595046,
          60.9922931671127,
          61.86046638001754,
          62.764739328818465,
          63.62146946766894,
          64.34701425072244,
          64.85773113213241,
          65.06997756605239,
          65.06997756605239,
          64.92112759748679,
          64.43262163484428,
          63.64691667738442,
          62.606469724366846,
          61.35373777505119,
          59.93117782869706,
          58.38124688456407,
          56.74640194191184,
          55.0691,
          55.0691,
          54.09514980699241,
          53.11495070703692,
          52.122253793185564,
          51.11081015849042,
          50.07437089600357,
          49.00668709877708,
          47.901509859863026,
          46.75259027231347,
          45.553679429180505,
          45.553679429180505,
          44.30874681618236,
          43.062635489702025,
          41.8704068987886,
          40.787122492491264,
          39.86784371985914,
          39.16763202994138,
          38.74154887178713,
          38.64465569444551,
          38.93201394696568,
          38.93201394696568,
          39.63235401919913,
          40.66908206420683,
          41.93927317585206,
          43.34000244799812,
          44.76834497450831,
          46.12137584924594,
          47.296170166074326,
          48.18980301885675,
          48.699349501456524,
          48.699349501456524,
          48.748057586098966,
          48.36386675845756,
          47.60088938256777,
          46.51323782246507,
          45.15502444218495,
          43.5803616057629,
          41.84336167723441,
          39.99813702063494,
          38.0988,
          38.0988,
          37.92713923946265,
          37.75297082724709,
          37.5737871116751,
          37.38708044106848,
          37.19034316374899,
          36.981067628038446,
          36.756746182258624,
          36.5148711747313,
          36.25293495377828,
          36.25293495377828,
          35.96953818767787,
          35.66771482453453,
          35.35160713240924,
          35.025357379363015,
          34.69310783345681,
          34.35900076275163,
          34.02717843530846,
          33.70178311918827,
          33.38695708245209,
          33.38695708245209,
          33.0873880106835,
          32.809945259556585,
          32.562043602268055,
          32.35109781201463,
          32.18452266199299,
          32.06973292539986,
          32.01414337543195,
          32.02516878528594,
          32.110223928158575,
          32.110223928158575,
          32.27397955011716,
          32.51013028871161,
          32.80962675436241,
          33.1634195574901,
          33.562459308515194,
          33.99769661785822,
          34.46008209593968,
          34.940566353180095,
          35.4301,
          35.4301,
          75.3601,
          null,
          79.3386,
          81.6252663057312,
          83.84978267129581,
          85.94999915652718,
          87.86376582125871,
          89.5289327253238,
          90.88334992855583,
          91.86486749078816,
          92.41133547185416,
          92.46060393158731,
          92.46060393158731,
          91.98068299895345,
          91.06022307944872,
          89.8180346477017,
          88.37292817834104,
          86.8437141459953,
          85.3492030252932,
          84.0082052908633,
          82.9395314173342,
          82.26199187933459,
          82.26199187933459,
          82.0631582414849,
          82.30564642837304,
          82.92083345457878,
          83.84009633468192,
          84.99481208326216,
          86.3163577148993,
          87.73611024417309,
          89.1854466856633,
          90.59574405394972,
          90.59574405394972,
          91.91181026967514,
          93.13217687773474,
          94.26880632908676,
          95.33366107468939,
          96.3387035655009,
          97.29589625247948,
          98.21720158658336,
          99.11458201877078,
          100,
          100,
          100,
          100,
          98.1539401071632,
          96.35377566115902,
          94.64540210882012,
          93.07471489697916,
          91.68760947246871,
          90.52998128212148,
          89.64772577277003,
          89.08673839124705,
          88.89291458438521,
          88.89291458438521,
          89.08971885392879,
          89.61089192126904,
          90.36774356270891,
          91.27158355455131,
          92.23372167309917,
          93.16546769465542,
          93.97813139552302,
          94.58302255200486,
          94.89145094040394,
          94.89145094040394,
          94.83933080357042,
          94.46099425054365,
          93.81537785691025,
          92.96141819825688,
          91.95805185017015,
          90.86421538823667,
          89.7388453880431,
          88.64087842517603,
          87.62925107522213,
          87.62925107522213,
          86.75038685138318,
          86.00065701732183,
          85.36391977431586,
          84.8240333236431,
          84.36485586658128,
          83.97024560440829,
          83.62406073840185,
          83.31015946983982,
          83.0124,
          83.0124,
          82.21195383642855,
          81.41743100101672,
          80.63475482192408,
          79.86984862731019,
          79.12863574533468,
          78.41703950415713,
          77.74098323193716,
          77.10639025683435,
          76.51918390700827,
          76.51918390700827,
          75.98654987948714,
          75.52072334677374,
          75.13520185023933,
          74.84348293125525,
          74.65906413119289,
          74.59544299142355,
          74.66611705331862,
          74.88458385824939,
          75.2643409475872,
          75.2643409475872,
          75.80972041548085,
          76.4883925671891,
          77.25886226074802,
          78.07963435419371,
          78.90921370556242,
          79.70610517289023,
          80.42881361421328,
          81.03584388756776,
          81.4857008509898,
          81.4857008509898,
          81.74748426491496,
          81.83267349937677,
          81.7633428268081,
          81.56156651964189,
          81.24941885031105,
          80.84897409124851,
          80.38230651488722,
          79.87149039366007,
          79.3386,
          null
         ],
         "y": [
          73.4178,
          73.83314847174464,
          74.24174977821497,
          74.63685675413653,
          75.01172223423498,
          75.35959905323597,
          75.67374004586509,
          75.94739804684804,
          76.17382589091041,
          76.34627641277784,
          76.34627641277784,
          76.45945826883202,
          76.51390340207905,
          76.51159957718099,
          76.45453455879996,
          76.3446961115981,
          76.18407200023748,
          75.97464998938028,
          75.7184178436886,
          75.41736332782452,
          75.41736332782452,
          75.0747357865098,
          74.69883088470488,
          74.29920586742968,
          73.8854179797042,
          73.4670244665485,
          73.05358257298252,
          72.6546495440263,
          72.27978262469983,
          71.93853906002312,
          71.93853906002312,
          71.63808358011153,
          71.37601085546197,
          71.14752304166664,
          70.94782229431782,
          70.77211076900775,
          70.61559062132868,
          70.47346400687287,
          70.34093308123255,
          70.2132,
          70.2132,
          70.74256363901151,
          71.26788115663916,
          71.785106431499,
          72.29019334220717,
          72.7790957673798,
          73.24776758563297,
          73.6921626755828,
          74.10823491584539,
          74.49193818503687,
          74.49193818503687,
          74.83837749433636,
          75.13926238517504,
          75.38545353154717,
          75.5678116074469,
          75.67719728686848,
          75.7044712438061,
          75.64049415225399,
          75.47612668620636,
          75.20222951965741,
          75.20222951965741,
          74.81581973762862,
          74.33854006925061,
          73.7981896546812,
          73.22256763407823,
          72.63947314759957,
          72.07670533540309,
          71.56206333764663,
          71.12334629448803,
          70.78835334608515,
          70.78835334608515,
          70.57781482710816,
          70.48418585027659,
          70.49285272282224,
          70.58920175197693,
          70.7586192449725,
          70.98649150904075,
          71.25820485141354,
          71.55914557932269,
          71.8747,
          71.8747,
          100,
          100,
          100,
          100,
          98.23124525196997,
          96.46658183472344,
          94.71010107904377,
          92.96589431571444,
          91.23805287551886,
          89.53066808924052,
          87.84783128766287,
          86.19363380156932,
          84.57216696174333,
          84.57216696174333,
          82.99455371413129,
          81.50004346533146,
          80.13491723710501,
          78.94545605121311,
          77.97794092941696,
          77.27865289347773,
          76.89387296515662,
          76.86988216621482,
          77.2529615184135,
          77.2529615184135,
          78.06293264219042,
          79.21377955268973,
          80.59302686373206,
          82.08819918913812,
          83.58682114272862,
          84.9764173383242,
          86.14451238974559,
          86.97863091081344,
          87.36629751534846,
          87.36629751534846,
          87.22413322047366,
          86.58514465652142,
          85.51143485712639,
          84.06510685592326,
          82.3082636865467,
          80.3030083826314,
          78.11144397781209,
          75.79567350572339,
          73.4178,
          null,
          32.9562,
          33.642191648963454,
          34.325951988972534,
          35.005249711072835,
          35.67785350630997,
          36.341532065729574,
          36.99405408037723,
          37.63318824129858,
          38.25670323953923,
          38.862367766144786,
          38.862367766144786,
          39.44480024169817,
          39.98601800493164,
          40.46488812411468,
          40.86027766751682,
          41.151053703407605,
          41.31608330005656,
          41.33423352573322,
          41.1843714487071,
          40.84536413724774,
          40.84536413724774,
          40.307711875691446,
          39.608447812641714,
          38.79623831276876,
          37.919749740742844,
          37.027648461234236,
          36.168600838913164,
          35.39127323844991,
          34.7443320245147,
          34.2764435617778,
          34.2764435617778,
          34.02394613346685,
          33.97386569703908,
          34.10090012850907,
          34.37974730389143,
          34.78510509920076,
          35.29167139045168,
          35.874144053658796,
          36.5072209648367,
          37.1656,
          37.1656,
          38.23683482363369,
          39.32503556705801,
          40.44716815006356,
          41.62019849244095,
          42.86109251398081,
          44.18681613447373,
          45.61433527371035,
          47.16061585148128,
          48.84262378757714,
          48.84262378757714,
          50.65988446492708,
          52.54216111901452,
          54.40177644846139,
          56.151053151889634,
          57.70231392792121,
          58.96788147517805,
          59.86007849228211,
          60.291227677855346,
          60.173651730519694,
          60.173651730519694,
          59.459250376679925,
          58.2582314538723,
          56.72037982741579,
          54.995480362629465,
          53.23331792483236,
          51.58367737934352,
          50.19634359148199,
          49.22110142656681,
          48.80773574991703,
          48.80773574991703,
          49.067888368676556,
          49.96062885728894,
          51.40688373202253,
          53.327579509145735,
          55.643642704926975,
          58.27599983563461,
          61.14557741753707,
          64.17330196690273,
          67.2801,
          67.2801,
          66.57943761280526,
          65.89557926850948,
          65.2453290100115,
          64.64549088021028,
          64.11286892200471,
          63.66426717829374,
          63.31648969197626,
          63.0863405059512,
          62.990623663117475,
          62.990623663117475,
          63.03965163906363,
          63.217770640136884,
          63.50283530537399,
          63.872700273811766,
          64.30522018448701,
          64.77824967643657,
          65.26964338869722,
          65.75725596030578,
          66.21894203029906,
          66.21894203029906,
          66.63787204912794,
          67.01847971289968,
          67.37051452913558,
          67.70372600535694,
          68.02786364908513,
          68.35267696784143,
          68.68791546914719,
          69.0433286605237,
          69.4286660494923,
          69.4286660494923,
          69.85131752741124,
          70.30923452098656,
          70.7980088407612,
          71.31323229727808,
          71.85049670108019,
          72.40539386271048,
          72.9735155927119,
          73.55045370162742,
          74.1318,
          74.1318,
          32.9562,
          null,
          35.4998,
          34.998598347091416,
          34.50738151783506,
          34.0361343358831,
          33.594841624887756,
          33.19348820850122,
          32.84205891037571,
          32.55053855416344,
          32.32891196351659,
          32.18716396208738,
          32.18716396208738,
          32.132106957786526,
          32.15786369555883,
          32.25538450460758,
          32.41561971413609,
          32.629519653347664,
          32.88803465144561,
          33.18211503763323,
          33.502711141113835,
          33.84077329109073,
          33.84077329109073,
          34.18837620859049,
          34.542092181932865,
          34.899617891260824,
          35.2586500167174,
          35.61688523844557,
          35.97202023658834,
          36.32175169128874,
          36.663776282689746,
          36.99579069093437,
          36.99579069093437,
          37.316103510642016,
          37.625470994337796,
          37.92526130902315,
          38.216842621699584,
          38.50158309936859,
          38.78085090903164,
          39.05601421769024,
          39.32844119234586,
          39.5995,
          39.5995,
          38.81385604810989,
          38.028529140806356,
          37.24383632267594,
          36.4600946383052,
          35.67762113228071,
          34.896732849189036,
          34.117746833616735,
          33.34098013015036,
          32.566749783376494,
          32.566749783376494,
          31.80036891381582,
          31.067134945725662,
          30.39734137929744,
          29.821281714722602,
          29.36924945219259,
          29.071538091898848,
          28.958441134032817,
          29.060252078785943,
          29.40726442634966,
          29.40726442634966,
          30.014058733375332,
          30.832363782354015,
          31.798195412236673,
          32.84756946197428,
          33.9165017705178,
          34.9410081768182,
          35.857104519826464,
          36.60080663849356,
          37.10813037177044,
          37.10813037177044,
          37.33131785482809,
          37.28751640771755,
          37.01009964670982,
          36.532441188075914,
          35.88791464808689,
          35.10989364301376,
          34.23175178912755,
          33.28686270269929,
          32.3086,
          32.3086,
          31.248670988814474,
          30.173514329567745,
          29.067902374198585,
          27.91660747464577,
          26.704401982848097,
          25.41605825074435,
          24.036348630273313,
          22.550045473373768,
          20.9419211319845,
          20.9419211319845,
          19.2123982134892,
          17.424500347051207,
          15.656901417278739,
          13.988275308780029,
          12.497295906163316,
          11.262637094036828,
          10.362972757008803,
          9.876976779687471,
          9.883323046681063,
          9.883323046681063,
          10.424780130210172,
          11.400495352944834,
          12.673710725167428,
          14.107668257160347,
          15.565609959205982,
          16.910777841586718,
          18.006413914584947,
          18.715760188483053,
          18.902058673563435,
          18.902058673563435,
          18.463563003923166,
          17.438573308918162,
          15.900401341718998,
          13.922358855496272,
          11.577757603420578,
          8.93990933866251,
          6.082125814392665,
          3.0777187837816298,
          0,
          0,
          0,
          0,
          35.4998,
          null,
          73.2383,
          71.97324836699869,
          70.71689525381156,
          69.47793918025272,
          68.26507866613635,
          67.08701223127656,
          65.95243839548753,
          64.87005567858341,
          63.84856260037836,
          62.896657680686516,
          62.896657680686516,
          62.02544538155361,
          61.25565393395175,
          60.610417511084535,
          60.11287028615565,
          59.786146432368746,
          59.65338012292746,
          59.73770553103547,
          60.06225682989642,
          60.65016819271396,
          60.65016819271396,
          61.50938242899214,
          62.58707689343669,
          63.81523757705366,
          65.12585047084914,
          66.45090156582927,
          67.7223768530001,
          68.87226232336774,
          69.83254396793828,
          70.53520777771783,
          70.53520777771783,
          70.92960563120745,
          71.03455295688832,
          70.88623107073643,
          70.52082128872794,
          69.97450492683896,
          69.28346330104557,
          68.48387772732389,
          67.61192952165,
          66.7038,
          66.7038,
          65.82236616223182,
          64.91392473319888,
          63.95146812163639,
          62.90798873627956,
          61.75647898586363,
          60.46993127912381,
          59.021338024795355,
          57.383691631613466,
          55.529984508313376,
          55.529984508313376,
          53.45707217648468,
          51.2572626091346,
          49.046726892124674,
          46.941636111316456,
          45.058161352571524,
          43.51247370175146,
          42.42074424471782,
          41.89914406733217,
          42.06384425545609,
          42.06384425545609,
          42.98106644146046,
          44.5172344437536,
          46.488822627253114,
          48.7123053568766,
          51.004156997541706,
          53.18085191416603,
          55.05886447166722,
          56.454669034962876,
          57.18473996897063,
          57.18473996897063,
          57.11186626786941,
          56.284095442883526,
          54.79578963449852,
          52.74131098319998,
          50.21502162947351,
          47.311283713804684,
          44.124459376679106,
          40.74891075858235,
          37.279,
          37.279,
          37.90836299927521,
          38.52403280272335,
          39.112316214517314,
          39.65952003883001,
          40.15195107983437,
          40.57591614170329,
          40.917722028609695,
          41.1636755447265,
          41.30008349422663,
          41.30008349422663,
          41.31793598125905,
          41.22695630987713,
          41.041551084110274,
          40.776126907987894,
          40.44509038553943,
          40.0628481207943,
          39.643806717781914,
          39.2023727805317,
          38.752952913073074,
          38.752952913073074,
          38.30735135410601,
          37.86696288101273,
          37.43057990584599,
          36.99699484065852,
          36.5650000975031,
          36.13338808843249,
          35.70095122549944,
          35.2664819207567,
          34.82877258625706,
          34.82877258625706,
          34.38689926200193,
          33.941072499787566,
          33.49178647935885,
          33.03953538046069,
          32.58481338283799,
          32.12811466623566,
          31.669933410398624,
          31.210763795071763,
          30.7511,
          30.7511,
          31.849938086500025,
          32.94327178925874,
          34.02559672453482,
          35.09140850858694,
          36.135202757673795,
          37.151475088054056,
          38.13472111598642,
          39.079436457729564,
          39.98011672954217,
          39.98011672954217,
          40.82766900440429,
          41.59864618218162,
          42.26601261946116,
          42.80273267282995,
          43.181770698875034,
          43.37609105418345,
          43.35865809534223,
          43.10243617893842,
          42.58038966155905,
          42.58038966155905,
          41.78142606697458,
          40.758225587689154,
          39.5794115833903,
          38.31360741376557,
          37.02943643850251,
          35.79552201728866,
          34.6804875098116,
          33.75295627575885,
          33.08155167481795,
          33.08155167481795,
          32.717445951306324,
          32.64200688806086,
          32.81915115254826,
          33.21279541223526,
          33.7868563345886,
          34.50525058707501,
          35.33189483716123,
          36.23070575231398,
          37.1656,
          37.1656,
          38.23683482363369,
          39.32503556705801,
          40.44716815006356,
          41.62019849244095,
          42.86109251398081,
          44.18681613447373,
          45.61433527371035,
          47.16061585148128,
          48.84262378757714,
          48.84262378757714,
          50.65988446492708,
          52.54216111901452,
          54.40177644846139,
          56.151053151889634,
          57.70231392792121,
          58.96788147517805,
          59.86007849228211,
          60.291227677855346,
          60.173651730519694,
          60.173651730519694,
          59.459250376679925,
          58.2582314538723,
          56.72037982741579,
          54.995480362629465,
          53.23331792483236,
          51.58367737934352,
          50.19634359148199,
          49.22110142656681,
          48.80773574991703,
          48.80773574991703,
          49.067888368676556,
          49.96062885728894,
          51.40688373202253,
          53.327579509145735,
          55.643642704926975,
          58.27599983563461,
          61.14557741753707,
          64.17330196690273,
          67.2801,
          null,
          0,
          0.8940408884024981,
          1.8188761527187338,
          2.8053001688624444,
          3.8841073127473678,
          5.0860919602872405,
          6.442048487395798,
          7.982771269986782,
          9.73905468397393,
          11.741693105270976,
          11.741693105270976,
          13.994760532654961,
          16.39544945635616,
          18.81423198946814,
          21.121580245084463,
          23.187966336298718,
          24.883862376204462,
          26.07974047789527,
          26.646072754464726,
          26.453331319006384,
          26.453331319006384,
          25.427260143837746,
          23.714690638172026,
          21.517726070446322,
          19.03846970909778,
          16.479024822563513,
          14.041494679280653,
          11.927982547686323,
          10.340591696217647,
          9.481425393311753,
          9.481425393311753,
          9.5016747364255,
          10.348882139094723,
          11.919677843874979,
          14.11069209332184,
          16.81855512999087,
          19.93989719643763,
          23.371348535217695,
          27.00953938888663,
          30.7511,
          30.7511,
          31.849938086500025,
          32.94327178925874,
          34.02559672453482,
          35.09140850858694,
          36.135202757673795,
          37.151475088054056,
          38.13472111598642,
          39.079436457729564,
          39.98011672954217,
          39.98011672954217,
          40.82766900440429,
          41.59864618218162,
          42.26601261946116,
          42.80273267282995,
          43.181770698875034,
          43.37609105418345,
          43.35865809534223,
          43.10243617893842,
          42.58038966155905,
          42.58038966155905,
          41.78142606697458,
          40.758225587689154,
          39.5794115833903,
          38.31360741376557,
          37.02943643850251,
          35.79552201728866,
          34.6804875098116,
          33.75295627575885,
          33.08155167481795,
          33.08155167481795,
          32.717445951306324,
          32.64200688806086,
          32.81915115254826,
          33.21279541223526,
          33.7868563345886,
          34.50525058707501,
          35.33189483716123,
          36.23070575231398,
          37.1656,
          37.1656,
          36.5072209648367,
          35.874144053658796,
          35.29167139045168,
          34.78510509920076,
          34.37974730389143,
          34.10090012850907,
          33.97386569703908,
          34.02394613346685,
          34.2764435617778,
          34.2764435617778,
          34.7443320245147,
          35.39127323844991,
          36.168600838913164,
          37.027648461234236,
          37.919749740742844,
          38.79623831276876,
          39.608447812641714,
          40.307711875691446,
          40.84536413724774,
          40.84536413724774,
          41.1843714487071,
          41.33423352573322,
          41.31608330005656,
          41.151053703407605,
          40.86027766751682,
          40.46488812411468,
          39.98601800493164,
          39.44480024169817,
          38.862367766144786,
          38.862367766144786,
          38.25670323953923,
          37.63318824129858,
          36.99405408037723,
          36.341532065729574,
          35.67785350630997,
          35.005249711072835,
          34.325951988972534,
          33.642191648963454,
          32.9562,
          32.9562,
          0,
          0,
          0,
          null,
          74.1318,
          73.55045370162742,
          72.9735155927119,
          72.40539386271048,
          71.85049670108019,
          71.31323229727808,
          70.7980088407612,
          70.30923452098656,
          69.85131752741124,
          69.4286660494923,
          69.4286660494923,
          69.0433286605237,
          68.68791546914719,
          68.35267696784143,
          68.02786364908513,
          67.70372600535694,
          67.37051452913558,
          67.01847971289968,
          66.63787204912794,
          66.21894203029906,
          66.21894203029906,
          65.75725596030578,
          65.26964338869722,
          64.77824967643657,
          64.30522018448701,
          63.872700273811766,
          63.50283530537399,
          63.217770640136884,
          63.03965163906363,
          62.990623663117475,
          62.990623663117475,
          63.0863405059512,
          63.31648969197626,
          63.66426717829374,
          64.11286892200471,
          64.64549088021028,
          65.2453290100115,
          65.89557926850948,
          66.57943761280526,
          67.2801,
          67.2801,
          68.2223480644048,
          69.15834761623869,
          70.08185014293069,
          70.98660713190988,
          71.86637007060536,
          72.71489044644618,
          73.52591974686139,
          74.29320945928008,
          75.01051107113132,
          75.01051107113132,
          75.66977031468683,
          76.2557099015891,
          76.75124678832327,
          77.13929793137444,
          77.40278028722777,
          77.52461081236841,
          77.48770646328147,
          77.27498419645211,
          76.86936096836546,
          76.86936096836546,
          76.26498942994664,
          75.50096500988089,
          74.62761883129335,
          73.69528201730922,
          72.75428569105371,
          71.85496097565198,
          71.04763899422927,
          70.38265086991073,
          69.91032772582156,
          69.91032772582156,
          69.66811223672619,
          69.64189328394599,
          69.80467130044157,
          70.1294467191735,
          70.58921997310242,
          71.15699149518893,
          71.80576171839363,
          72.50853107567711,
          73.2383,
          73.2383,
          73.97608285376249,
          74.73457459424746,
          75.53448410817728,
          76.39652028227444,
          77.34139200326135,
          78.38980815786046,
          79.56247763279424,
          80.88010931478509,
          82.36341209055549,
          82.36341209055549,
          84.01491086315662,
          85.76439460095489,
          87.52346828864535,
          89.20373691092317,
          90.71680545248347,
          91.97427889802138,
          92.88776223223205,
          93.36886043981056,
          93.32917850545208,
          93.32917850545208,
          92.71861701620419,
          91.64025896852475,
          90.23548296122394,
          88.64566759311201,
          87.01219146299927,
          85.47643316969597,
          84.17977131201238,
          83.26358448875874,
          82.86925129874534,
          82.86925129874534,
          83.10230516260941,
          83.92489878829616,
          85.26333970557776,
          87.04393544422632,
          89.19299353401406,
          91.63682150471313,
          94.3017268860957,
          97.11401720793393,
          100,
          100,
          100,
          100,
          74.1318,
          null,
          66.7038,
          66.13633500428558,
          65.58187060626237,
          65.05340740362153,
          64.56394599405427,
          64.12648697525175,
          63.75403094490518,
          63.459578500705746,
          63.256130240344646,
          63.156686761513065,
          63.156686761513065,
          63.16963685835233,
          63.28492211080443,
          63.48787229526147,
          63.76381718811554,
          64.09808656575879,
          64.47601020458333,
          64.88291788098125,
          65.30413937134469,
          65.72500445206576,
          65.72500445206576,
          66.13384575760038,
          66.53100735465989,
          66.9198361680193,
          67.30367912245376,
          67.68588314273836,
          68.06979515364819,
          68.45876207995835,
          68.85613084644395,
          69.26524837788008,
          69.26524837788008,
          69.68862422843624,
          70.12541846985967,
          70.5739538032919,
          71.03255292987456,
          71.49953855074922,
          71.97323336705749,
          72.45196007994099,
          72.9340413905413,
          73.4178,
          73.4178,
          73.83314847174464,
          74.24174977821497,
          74.63685675413653,
          75.01172223423498,
          75.35959905323597,
          75.67374004586509,
          75.94739804684804,
          76.17382589091041,
          76.34627641277784,
          76.34627641277784,
          76.45945826883202,
          76.51390340207905,
          76.51159957718099,
          76.45453455879996,
          76.3446961115981,
          76.18407200023748,
          75.97464998938028,
          75.7184178436886,
          75.41736332782452,
          75.41736332782452,
          75.0747357865098,
          74.69883088470488,
          74.29920586742968,
          73.8854179797042,
          73.4670244665485,
          73.05358257298252,
          72.6546495440263,
          72.27978262469983,
          71.93853906002312,
          71.93853906002312,
          71.63808358011153,
          71.37601085546197,
          71.14752304166664,
          70.94782229431782,
          70.77211076900775,
          70.61559062132868,
          70.47346400687287,
          70.34093308123255,
          70.2132,
          70.2132,
          68.72236605879526,
          67.22265344888933,
          65.70518350158105,
          64.16107754816916,
          62.581456919952515,
          60.957442948229925,
          59.2801569643002,
          57.54072029946213,
          55.73025428501455,
          55.73025428501455,
          53.85428205550909,
          51.97593395850886,
          50.17274214482975,
          48.52223876528767,
          47.10195597069852,
          45.98942591187824,
          45.26218073964276,
          44.99775260480796,
          45.273673658189765,
          45.273673658189765,
          46.12992566079863,
          47.45628881442327,
          49.10499293104684,
          50.92826782265257,
          52.778343301223686,
          54.507449178743386,
          55.9678152671949,
          57.01167137856143,
          57.49124732482621,
          57.49124732482621,
          57.296587400292225,
          56.46899382854178,
          55.0875833154769,
          53.23147256699964,
          50.979778289012074,
          48.41161718741627,
          45.606105968114285,
          42.64236133700817,
          39.5995,
          39.5995,
          38.81385604810989,
          38.028529140806356,
          37.24383632267594,
          36.4600946383052,
          35.67762113228071,
          34.896732849189036,
          34.117746833616735,
          33.34098013015036,
          32.566749783376494,
          32.566749783376494,
          31.80036891381582,
          31.067134945725662,
          30.39734137929744,
          29.821281714722602,
          29.36924945219259,
          29.071538091898848,
          28.958441134032817,
          29.060252078785943,
          29.40726442634966,
          29.40726442634966,
          30.014058733375332,
          30.832363782354015,
          31.798195412236673,
          32.84756946197428,
          33.9165017705178,
          34.9410081768182,
          35.857104519826464,
          36.60080663849356,
          37.10813037177044,
          37.10813037177044,
          37.33131785482809,
          37.28751640771755,
          37.01009964670982,
          36.532441188075914,
          35.88791464808689,
          35.10989364301376,
          34.23175178912755,
          33.28686270269929,
          32.3086,
          32.3086,
          33.1670831338481,
          34.02266471150734,
          34.87244317678881,
          35.71351697350363,
          36.54298454546293,
          37.357944336477814,
          38.15549479035941,
          38.93273435091884,
          39.68676146196722,
          39.68676146196722,
          40.410774914354555,
          41.08237488708643,
          41.67526190620732,
          42.16313649776166,
          42.51969918779396,
          42.718650502348666,
          42.73369096747025,
          42.538521109203195,
          42.106841453591954,
          42.106841453591954,
          41.42685373168072,
          40.54476449451267,
          39.52128149813063,
          38.41711249857745,
          37.292965251896035,
          36.20954751412923,
          35.2275670413199,
          34.40773158951092,
          33.81074891474513,
          33.81074891474513,
          33.481957692741865,
          33.40522027792622,
          33.54902994439974,
          33.88187996626397,
          34.37226361762047,
          34.98867417257077,
          35.699604905216425,
          36.47354908965899,
          37.279,
          null,
          73.2383,
          73.97608285376249,
          74.73457459424746,
          75.53448410817728,
          76.39652028227444,
          77.34139200326135,
          78.38980815786046,
          79.56247763279424,
          80.88010931478509,
          82.36341209055549,
          82.36341209055549,
          84.01491086315662,
          85.76439460095489,
          87.52346828864535,
          89.20373691092317,
          90.71680545248347,
          91.97427889802138,
          92.88776223223205,
          93.36886043981056,
          93.32917850545208,
          93.32917850545208,
          92.71861701620419,
          91.64025896852475,
          90.23548296122394,
          88.64566759311201,
          87.01219146299927,
          85.47643316969597,
          84.17977131201238,
          83.26358448875874,
          82.86925129874534,
          82.86925129874534,
          83.10230516260941,
          83.92489878829616,
          85.26333970557776,
          87.04393544422632,
          89.19299353401406,
          91.63682150471313,
          94.3017268860957,
          97.11401720793393,
          100,
          100,
          100,
          100,
          98.23124525196997,
          96.46658183472344,
          94.71010107904377,
          92.96589431571444,
          91.23805287551886,
          89.53066808924052,
          87.84783128766287,
          86.19363380156932,
          84.57216696174333,
          84.57216696174333,
          82.99455371413129,
          81.50004346533146,
          80.13491723710501,
          78.94545605121311,
          77.97794092941696,
          77.27865289347773,
          76.89387296515662,
          76.86988216621482,
          77.2529615184135,
          77.2529615184135,
          78.06293264219042,
          79.21377955268973,
          80.59302686373206,
          82.08819918913812,
          83.58682114272862,
          84.9764173383242,
          86.14451238974559,
          86.97863091081344,
          87.36629751534846,
          87.36629751534846,
          87.22413322047366,
          86.58514465652142,
          85.51143485712639,
          84.06510685592326,
          82.3082636865467,
          80.3030083826314,
          78.11144397781209,
          75.79567350572339,
          73.4178,
          73.4178,
          72.9340413905413,
          72.45196007994099,
          71.97323336705749,
          71.49953855074922,
          71.03255292987456,
          70.5739538032919,
          70.12541846985967,
          69.68862422843624,
          69.26524837788008,
          69.26524837788008,
          68.85613084644395,
          68.45876207995835,
          68.06979515364819,
          67.68588314273836,
          67.30367912245376,
          66.9198361680193,
          66.53100735465989,
          66.13384575760038,
          65.72500445206576,
          65.72500445206576,
          65.30413937134469,
          64.88291788098125,
          64.47601020458333,
          64.09808656575879,
          63.76381718811554,
          63.48787229526147,
          63.28492211080443,
          63.16963685835233,
          63.156686761513065,
          63.156686761513065,
          63.256130240344646,
          63.459578500705746,
          63.75403094490518,
          64.12648697525175,
          64.56394599405427,
          65.05340740362153,
          65.58187060626237,
          66.13633500428558,
          66.7038,
          66.7038,
          67.61192952165,
          68.48387772732389,
          69.28346330104557,
          69.97450492683896,
          70.52082128872794,
          70.88623107073643,
          71.03455295688832,
          70.92960563120745,
          70.53520777771783,
          70.53520777771783,
          69.83254396793828,
          68.87226232336774,
          67.7223768530001,
          66.45090156582927,
          65.12585047084914,
          63.81523757705366,
          62.58707689343669,
          61.50938242899214,
          60.65016819271396,
          60.65016819271396,
          60.06225682989642,
          59.73770553103547,
          59.65338012292746,
          59.786146432368746,
          60.11287028615565,
          60.610417511084535,
          61.25565393395175,
          62.02544538155361,
          62.896657680686516,
          62.896657680686516,
          63.84856260037836,
          64.87005567858341,
          65.95243839548753,
          67.08701223127656,
          68.26507866613635,
          69.47793918025272,
          70.71689525381156,
          71.97324836699869,
          73.2383,
          null,
          0,
          3.0777187837816298,
          6.082125814392665,
          8.93990933866251,
          11.577757603420578,
          13.922358855496272,
          15.900401341718998,
          17.438573308918162,
          18.463563003923166,
          18.902058673563435,
          18.902058673563435,
          18.715760188483053,
          18.006413914584947,
          16.910777841586718,
          15.565609959205982,
          14.107668257160347,
          12.673710725167428,
          11.400495352944834,
          10.424780130210172,
          9.883323046681063,
          9.883323046681063,
          9.876976779687471,
          10.362972757008803,
          11.262637094036828,
          12.497295906163316,
          13.988275308780029,
          15.656901417278739,
          17.424500347051207,
          19.2123982134892,
          20.9419211319845,
          20.9419211319845,
          22.550045473373768,
          24.036348630273313,
          25.41605825074435,
          26.704401982848097,
          27.91660747464577,
          29.067902374198585,
          30.173514329567745,
          31.248670988814474,
          32.3086,
          32.3086,
          33.1670831338481,
          34.02266471150734,
          34.87244317678881,
          35.71351697350363,
          36.54298454546293,
          37.357944336477814,
          38.15549479035941,
          38.93273435091884,
          39.68676146196722,
          39.68676146196722,
          40.410774914354555,
          41.08237488708643,
          41.67526190620732,
          42.16313649776166,
          42.51969918779396,
          42.718650502348666,
          42.73369096747025,
          42.538521109203195,
          42.106841453591954,
          42.106841453591954,
          41.42685373168072,
          40.54476449451267,
          39.52128149813063,
          38.41711249857745,
          37.292965251896035,
          36.20954751412923,
          35.2275670413199,
          34.40773158951092,
          33.81074891474513,
          33.81074891474513,
          33.481957692741865,
          33.40522027792622,
          33.54902994439974,
          33.88187996626397,
          34.37226361762047,
          34.98867417257077,
          35.699604905216425,
          36.47354908965899,
          37.279,
          37.279,
          37.90836299927521,
          38.52403280272335,
          39.112316214517314,
          39.65952003883001,
          40.15195107983437,
          40.57591614170329,
          40.917722028609695,
          41.1636755447265,
          41.30008349422663,
          41.30008349422663,
          41.31793598125905,
          41.22695630987713,
          41.041551084110274,
          40.776126907987894,
          40.44509038553943,
          40.0628481207943,
          39.643806717781914,
          39.2023727805317,
          38.752952913073074,
          38.752952913073074,
          38.30735135410601,
          37.86696288101273,
          37.43057990584599,
          36.99699484065852,
          36.5650000975031,
          36.13338808843249,
          35.70095122549944,
          35.2664819207567,
          34.82877258625706,
          34.82877258625706,
          34.38689926200193,
          33.941072499787566,
          33.49178647935885,
          33.03953538046069,
          32.58481338283799,
          32.12811466623566,
          31.669933410398624,
          31.210763795071763,
          30.7511,
          30.7511,
          27.00953938888663,
          23.371348535217695,
          19.93989719643763,
          16.81855512999087,
          14.11069209332184,
          11.919677843874979,
          10.348882139094723,
          9.5016747364255,
          9.481425393311753,
          9.481425393311753,
          10.340591696217647,
          11.927982547686323,
          14.041494679280653,
          16.479024822563513,
          19.03846970909778,
          21.517726070446322,
          23.714690638172026,
          25.427260143837746,
          26.453331319006384,
          26.453331319006384,
          26.646072754464726,
          26.07974047789527,
          24.883862376204462,
          23.187966336298718,
          21.121580245084463,
          18.81423198946814,
          16.39544945635616,
          13.994760532654961,
          11.741693105270976,
          11.741693105270976,
          9.73905468397393,
          7.982771269986782,
          6.442048487395798,
          5.0860919602872405,
          3.8841073127473678,
          2.8053001688624444,
          1.8188761527187338,
          0.8940408884024981,
          0,
          0,
          0,
          null,
          39.5995,
          39.32844119234586,
          39.05601421769024,
          38.78085090903164,
          38.50158309936859,
          38.216842621699584,
          37.92526130902315,
          37.625470994337796,
          37.316103510642016,
          36.99579069093437,
          36.99579069093437,
          36.663776282689746,
          36.32175169128874,
          35.97202023658834,
          35.61688523844557,
          35.2586500167174,
          34.899617891260824,
          34.542092181932865,
          34.18837620859049,
          33.84077329109073,
          33.84077329109073,
          33.502711141113835,
          33.18211503763323,
          32.88803465144561,
          32.629519653347664,
          32.41561971413609,
          32.25538450460758,
          32.15786369555883,
          32.132106957786526,
          32.18716396208738,
          32.18716396208738,
          32.32891196351659,
          32.55053855416344,
          32.84205891037571,
          33.19348820850122,
          33.594841624887756,
          34.0361343358831,
          34.50738151783506,
          34.998598347091416,
          35.4998,
          35.4998,
          71.8747,
          71.8747,
          71.55914557932269,
          71.25820485141354,
          70.98649150904075,
          70.7586192449725,
          70.58920175197693,
          70.49285272282224,
          70.48418585027659,
          70.57781482710816,
          70.78835334608515,
          70.78835334608515,
          71.12334629448803,
          71.56206333764663,
          72.07670533540309,
          72.63947314759957,
          73.22256763407823,
          73.7981896546812,
          74.33854006925061,
          74.81581973762862,
          75.20222951965741,
          75.20222951965741,
          75.47612668620636,
          75.64049415225399,
          75.7044712438061,
          75.67719728686848,
          75.5678116074469,
          75.38545353154717,
          75.13926238517504,
          74.83837749433636,
          74.49193818503687,
          74.49193818503687,
          74.10823491584539,
          73.6921626755828,
          73.24776758563297,
          72.7790957673798,
          72.29019334220717,
          71.785106431499,
          71.26788115663916,
          70.74256363901151,
          70.2132,
          70.2132,
          68.72236605879526,
          67.22265344888933,
          65.70518350158105,
          64.16107754816916,
          62.581456919952515,
          60.957442948229925,
          59.2801569643002,
          57.54072029946213,
          55.73025428501455,
          55.73025428501455,
          53.85428205550909,
          51.97593395850886,
          50.17274214482975,
          48.52223876528767,
          47.10195597069852,
          45.98942591187824,
          45.26218073964276,
          44.99775260480796,
          45.273673658189765,
          45.273673658189765,
          46.12992566079863,
          47.45628881442327,
          49.10499293104684,
          50.92826782265257,
          52.778343301223686,
          54.507449178743386,
          55.9678152671949,
          57.01167137856143,
          57.49124732482621,
          57.49124732482621,
          57.296587400292225,
          56.46899382854178,
          55.0875833154769,
          53.23147256699964,
          50.979778289012074,
          48.41161718741627,
          45.606105968114285,
          42.64236133700817,
          39.5995,
          null
         ]
        },
        {
         "mode": "markers",
         "type": "scatter",
         "x": [
          78.0374,
          83.0124,
          100,
          100,
          72.3675,
          78.0374,
          null,
          0,
          27.9423,
          27.8046,
          0,
          0,
          null,
          100,
          79.3386,
          69.4015,
          75.3601,
          100,
          100,
          null,
          40.649504437844165,
          52.34763491534599,
          55.06905440365178,
          38.098842708300225,
          27.94229036361957,
          27.804581795741896,
          null,
          35.4301,
          38.0988,
          27.9423,
          0,
          0,
          35.4301,
          null,
          0,
          27.8046,
          40.6495,
          42.3564,
          0,
          0,
          null,
          52.34763491534599,
          78.03743051750989,
          83.01243418121757,
          79.33862094684517,
          69.40149651909532,
          55.06905440365178,
          null,
          40.6495,
          42.3564,
          72.3675,
          78.0374,
          52.3476,
          40.6495,
          null,
          75.3601,
          69.4015,
          55.0691,
          38.0988,
          35.4301,
          75.3601,
          null,
          79.3386,
          100,
          100,
          83.0124,
          79.3386,
          null
         ],
         "y": [
          73.4178,
          70.2132,
          71.8747,
          100,
          100,
          73.4178,
          null,
          32.9562,
          37.1656,
          67.2801,
          74.1318,
          32.9562,
          null,
          35.4998,
          39.5995,
          32.3086,
          0,
          0,
          35.4998,
          null,
          73.2382648947395,
          66.70378378327698,
          37.27898886003666,
          30.751132999145277,
          37.16557303060888,
          67.28014396473462,
          null,
          0,
          30.7511,
          37.1656,
          32.9562,
          0,
          0,
          null,
          74.1318,
          67.2801,
          73.2383,
          100,
          100,
          74.1318,
          null,
          66.70378378327698,
          73.41779900903606,
          70.21322339322631,
          39.599481293970314,
          32.30857204163232,
          37.27898886003666,
          null,
          73.2383,
          100,
          100,
          73.4178,
          66.7038,
          73.2383,
          null,
          0,
          32.3086,
          37.279,
          30.7511,
          0,
          0,
          null,
          39.5995,
          35.4998,
          71.8747,
          70.2132,
          39.5995,
          null
         ]
        }
       ],
       "layout": {
        "template": {
         "data": {
          "bar": [
           {
            "error_x": {
             "color": "#2a3f5f"
            },
            "error_y": {
             "color": "#2a3f5f"
            },
            "marker": {
             "line": {
              "color": "#E5ECF6",
              "width": 0.5
             },
             "pattern": {
              "fillmode": "overlay",
              "size": 10,
              "solidity": 0.2
             }
            },
            "type": "bar"
           }
          ],
          "barpolar": [
           {
            "marker": {
             "line": {
              "color": "#E5ECF6",
              "width": 0.5
             },
             "pattern": {
              "fillmode": "overlay",
              "size": 10,
              "solidity": 0.2
             }
            },
            "type": "barpolar"
           }
          ],
          "carpet": [
           {
            "aaxis": {
             "endlinecolor": "#2a3f5f",
             "gridcolor": "white",
             "linecolor": "white",
             "minorgridcolor": "white",
             "startlinecolor": "#2a3f5f"
            },
            "baxis": {
             "endlinecolor": "#2a3f5f",
             "gridcolor": "white",
             "linecolor": "white",
             "minorgridcolor": "white",
             "startlinecolor": "#2a3f5f"
            },
            "type": "carpet"
           }
          ],
          "choropleth": [
           {
            "colorbar": {
             "outlinewidth": 0,
             "ticks": ""
            },
            "type": "choropleth"
           }
          ],
          "contour": [
           {
            "colorbar": {
             "outlinewidth": 0,
             "ticks": ""
            },
            "colorscale": [
             [
              0,
              "#0d0887"
             ],
             [
              0.1111111111111111,
              "#46039f"
             ],
             [
              0.2222222222222222,
              "#7201a8"
             ],
             [
              0.3333333333333333,
              "#9c179e"
             ],
             [
              0.4444444444444444,
              "#bd3786"
             ],
             [
              0.5555555555555556,
              "#d8576b"
             ],
             [
              0.6666666666666666,
              "#ed7953"
             ],
             [
              0.7777777777777778,
              "#fb9f3a"
             ],
             [
              0.8888888888888888,
              "#fdca26"
             ],
             [
              1,
              "#f0f921"
             ]
            ],
            "type": "contour"
           }
          ],
          "contourcarpet": [
           {
            "colorbar": {
             "outlinewidth": 0,
             "ticks": ""
            },
            "type": "contourcarpet"
           }
          ],
          "heatmap": [
           {
            "colorbar": {
             "outlinewidth": 0,
             "ticks": ""
            },
            "colorscale": [
             [
              0,
              "#0d0887"
             ],
             [
              0.1111111111111111,
              "#46039f"
             ],
             [
              0.2222222222222222,
              "#7201a8"
             ],
             [
              0.3333333333333333,
              "#9c179e"
             ],
             [
              0.4444444444444444,
              "#bd3786"
             ],
             [
              0.5555555555555556,
              "#d8576b"
             ],
             [
              0.6666666666666666,
              "#ed7953"
             ],
             [
              0.7777777777777778,
              "#fb9f3a"
             ],
             [
              0.8888888888888888,
              "#fdca26"
             ],
             [
              1,
              "#f0f921"
             ]
            ],
            "type": "heatmap"
           }
          ],
          "heatmapgl": [
           {
            "colorbar": {
             "outlinewidth": 0,
             "ticks": ""
            },
            "colorscale": [
             [
              0,
              "#0d0887"
             ],
             [
              0.1111111111111111,
              "#46039f"
             ],
             [
              0.2222222222222222,
              "#7201a8"
             ],
             [
              0.3333333333333333,
              "#9c179e"
             ],
             [
              0.4444444444444444,
              "#bd3786"
             ],
             [
              0.5555555555555556,
              "#d8576b"
             ],
             [
              0.6666666666666666,
              "#ed7953"
             ],
             [
              0.7777777777777778,
              "#fb9f3a"
             ],
             [
              0.8888888888888888,
              "#fdca26"
             ],
             [
              1,
              "#f0f921"
             ]
            ],
            "type": "heatmapgl"
           }
          ],
          "histogram": [
           {
            "marker": {
             "pattern": {
              "fillmode": "overlay",
              "size": 10,
              "solidity": 0.2
             }
            },
            "type": "histogram"
           }
          ],
          "histogram2d": [
           {
            "colorbar": {
             "outlinewidth": 0,
             "ticks": ""
            },
            "colorscale": [
             [
              0,
              "#0d0887"
             ],
             [
              0.1111111111111111,
              "#46039f"
             ],
             [
              0.2222222222222222,
              "#7201a8"
             ],
             [
              0.3333333333333333,
              "#9c179e"
             ],
             [
              0.4444444444444444,
              "#bd3786"
             ],
             [
              0.5555555555555556,
              "#d8576b"
             ],
             [
              0.6666666666666666,
              "#ed7953"
             ],
             [
              0.7777777777777778,
              "#fb9f3a"
             ],
             [
              0.8888888888888888,
              "#fdca26"
             ],
             [
              1,
              "#f0f921"
             ]
            ],
            "type": "histogram2d"
           }
          ],
          "histogram2dcontour": [
           {
            "colorbar": {
             "outlinewidth": 0,
             "ticks": ""
            },
            "colorscale": [
             [
              0,
              "#0d0887"
             ],
             [
              0.1111111111111111,
              "#46039f"
             ],
             [
              0.2222222222222222,
              "#7201a8"
             ],
             [
              0.3333333333333333,
              "#9c179e"
             ],
             [
              0.4444444444444444,
              "#bd3786"
             ],
             [
              0.5555555555555556,
              "#d8576b"
             ],
             [
              0.6666666666666666,
              "#ed7953"
             ],
             [
              0.7777777777777778,
              "#fb9f3a"
             ],
             [
              0.8888888888888888,
              "#fdca26"
             ],
             [
              1,
              "#f0f921"
             ]
            ],
            "type": "histogram2dcontour"
           }
          ],
          "mesh3d": [
           {
            "colorbar": {
             "outlinewidth": 0,
             "ticks": ""
            },
            "type": "mesh3d"
           }
          ],
          "parcoords": [
           {
            "line": {
             "colorbar": {
              "outlinewidth": 0,
              "ticks": ""
             }
            },
            "type": "parcoords"
           }
          ],
          "pie": [
           {
            "automargin": true,
            "type": "pie"
           }
          ],
          "scatter": [
           {
            "marker": {
             "colorbar": {
              "outlinewidth": 0,
              "ticks": ""
             }
            },
            "type": "scatter"
           }
          ],
          "scatter3d": [
           {
            "line": {
             "colorbar": {
              "outlinewidth": 0,
              "ticks": ""
             }
            },
            "marker": {
             "colorbar": {
              "outlinewidth": 0,
              "ticks": ""
             }
            },
            "type": "scatter3d"
           }
          ],
          "scattercarpet": [
           {
            "marker": {
             "colorbar": {
              "outlinewidth": 0,
              "ticks": ""
             }
            },
            "type": "scattercarpet"
           }
          ],
          "scattergeo": [
           {
            "marker": {
             "colorbar": {
              "outlinewidth": 0,
              "ticks": ""
             }
            },
            "type": "scattergeo"
           }
          ],
          "scattergl": [
           {
            "marker": {
             "colorbar": {
              "outlinewidth": 0,
              "ticks": ""
             }
            },
            "type": "scattergl"
           }
          ],
          "scattermapbox": [
           {
            "marker": {
             "colorbar": {
              "outlinewidth": 0,
              "ticks": ""
             }
            },
            "type": "scattermapbox"
           }
          ],
          "scatterpolar": [
           {
            "marker": {
             "colorbar": {
              "outlinewidth": 0,
              "ticks": ""
             }
            },
            "type": "scatterpolar"
           }
          ],
          "scatterpolargl": [
           {
            "marker": {
             "colorbar": {
              "outlinewidth": 0,
              "ticks": ""
             }
            },
            "type": "scatterpolargl"
           }
          ],
          "scatterternary": [
           {
            "marker": {
             "colorbar": {
              "outlinewidth": 0,
              "ticks": ""
             }
            },
            "type": "scatterternary"
           }
          ],
          "surface": [
           {
            "colorbar": {
             "outlinewidth": 0,
             "ticks": ""
            },
            "colorscale": [
             [
              0,
              "#0d0887"
             ],
             [
              0.1111111111111111,
              "#46039f"
             ],
             [
              0.2222222222222222,
              "#7201a8"
             ],
             [
              0.3333333333333333,
              "#9c179e"
             ],
             [
              0.4444444444444444,
              "#bd3786"
             ],
             [
              0.5555555555555556,
              "#d8576b"
             ],
             [
              0.6666666666666666,
              "#ed7953"
             ],
             [
              0.7777777777777778,
              "#fb9f3a"
             ],
             [
              0.8888888888888888,
              "#fdca26"
             ],
             [
              1,
              "#f0f921"
             ]
            ],
            "type": "surface"
           }
          ],
          "table": [
           {
            "cells": {
             "fill": {
              "color": "#EBF0F8"
             },
             "line": {
              "color": "white"
             }
            },
            "header": {
             "fill": {
              "color": "#C8D4E3"
             },
             "line": {
              "color": "white"
             }
            },
            "type": "table"
           }
          ]
         },
         "layout": {
          "annotationdefaults": {
           "arrowcolor": "#2a3f5f",
           "arrowhead": 0,
           "arrowwidth": 1
          },
          "autotypenumbers": "strict",
          "coloraxis": {
           "colorbar": {
            "outlinewidth": 0,
            "ticks": ""
           }
          },
          "colorscale": {
           "diverging": [
            [
             0,
             "#8e0152"
            ],
            [
             0.1,
             "#c51b7d"
            ],
            [
             0.2,
             "#de77ae"
            ],
            [
             0.3,
             "#f1b6da"
            ],
            [
             0.4,
             "#fde0ef"
            ],
            [
             0.5,
             "#f7f7f7"
            ],
            [
             0.6,
             "#e6f5d0"
            ],
            [
             0.7,
             "#b8e186"
            ],
            [
             0.8,
             "#7fbc41"
            ],
            [
             0.9,
             "#4d9221"
            ],
            [
             1,
             "#276419"
            ]
           ],
           "sequential": [
            [
             0,
             "#0d0887"
            ],
            [
             0.1111111111111111,
             "#46039f"
            ],
            [
             0.2222222222222222,
             "#7201a8"
            ],
            [
             0.3333333333333333,
             "#9c179e"
            ],
            [
             0.4444444444444444,
             "#bd3786"
            ],
            [
             0.5555555555555556,
             "#d8576b"
            ],
            [
             0.6666666666666666,
             "#ed7953"
            ],
            [
             0.7777777777777778,
             "#fb9f3a"
            ],
            [
             0.8888888888888888,
             "#fdca26"
            ],
            [
             1,
             "#f0f921"
            ]
           ],
           "sequentialminus": [
            [
             0,
             "#0d0887"
            ],
            [
             0.1111111111111111,
             "#46039f"
            ],
            [
             0.2222222222222222,
             "#7201a8"
            ],
            [
             0.3333333333333333,
             "#9c179e"
            ],
            [
             0.4444444444444444,
             "#bd3786"
            ],
            [
             0.5555555555555556,
             "#d8576b"
            ],
            [
             0.6666666666666666,
             "#ed7953"
            ],
            [
             0.7777777777777778,
             "#fb9f3a"
            ],
            [
             0.8888888888888888,
             "#fdca26"
            ],
            [
             1,
             "#f0f921"
            ]
           ]
          },
          "colorway": [
           "#636efa",
           "#EF553B",
           "#00cc96",
           "#ab63fa",
           "#FFA15A",
           "#19d3f3",
           "#FF6692",
           "#B6E880",
           "#FF97FF",
           "#FECB52"
          ],
          "font": {
           "color": "#2a3f5f"
          },
          "geo": {
           "bgcolor": "white",
           "lakecolor": "white",
           "landcolor": "#E5ECF6",
           "showlakes": true,
           "showland": true,
           "subunitcolor": "white"
          },
          "hoverlabel": {
           "align": "left"
          },
          "hovermode": "closest",
          "mapbox": {
           "style": "light"
          },
          "paper_bgcolor": "white",
          "plot_bgcolor": "#E5ECF6",
          "polar": {
           "angularaxis": {
            "gridcolor": "white",
            "linecolor": "white",
            "ticks": ""
           },
           "bgcolor": "#E5ECF6",
           "radialaxis": {
            "gridcolor": "white",
            "linecolor": "white",
            "ticks": ""
           }
          },
          "scene": {
           "xaxis": {
            "backgroundcolor": "#E5ECF6",
            "gridcolor": "white",
            "gridwidth": 2,
            "linecolor": "white",
            "showbackground": true,
            "ticks": "",
            "zerolinecolor": "white"
           },
           "yaxis": {
            "backgroundcolor": "#E5ECF6",
            "gridcolor": "white",
            "gridwidth": 2,
            "linecolor": "white",
            "showbackground": true,
            "ticks": "",
            "zerolinecolor": "white"
           },
           "zaxis": {
            "backgroundcolor": "#E5ECF6",
            "gridcolor": "white",
            "gridwidth": 2,
            "linecolor": "white",
            "showbackground": true,
            "ticks": "",
            "zerolinecolor": "white"
           }
          },
          "shapedefaults": {
           "line": {
            "color": "#2a3f5f"
           }
          },
          "ternary": {
           "aaxis": {
            "gridcolor": "white",
            "linecolor": "white",
            "ticks": ""
           },
           "baxis": {
            "gridcolor": "white",
            "linecolor": "white",
            "ticks": ""
           },
           "bgcolor": "#E5ECF6",
           "caxis": {
            "gridcolor": "white",
            "linecolor": "white",
            "ticks": ""
           }
          },
          "title": {
           "x": 0.05
          },
          "xaxis": {
           "automargin": true,
           "gridcolor": "white",
           "linecolor": "white",
           "ticks": "",
           "title": {
            "standoff": 15
           },
           "zerolinecolor": "white",
           "zerolinewidth": 2
          },
          "yaxis": {
           "automargin": true,
           "gridcolor": "white",
           "linecolor": "white",
           "ticks": "",
           "title": {
            "standoff": 15
           },
           "zerolinecolor": "white",
           "zerolinewidth": 2
          }
         }
        }
       }
      },
      "text/html": [
       "<div>                            <div id=\"ab4e31b6-74a1-4b90-9fac-7593ae7f6a93\" class=\"plotly-graph-div\" style=\"height:525px; width:100%;\"></div>            <script type=\"text/javascript\">                require([\"plotly\"], function(Plotly) {                    window.PLOTLYENV=window.PLOTLYENV || {};                                    if (document.getElementById(\"ab4e31b6-74a1-4b90-9fac-7593ae7f6a93\")) {                    Plotly.newPlot(                        \"ab4e31b6-74a1-4b90-9fac-7593ae7f6a93\",                        [{\"mode\":\"lines\",\"type\":\"scatter\",\"x\":[78.0374,78.58315635484529,79.12600020612521,79.66301905027433,80.19130038372721,80.70793170291849,81.21000050428275,81.69459428425459,82.15880053926861,82.59970676575941,82.59970676575941,83.01303283997143,83.38902815738867,83.71657449330489,83.98455362301391,84.1818473218096,84.29733736498574,84.31990552783616,84.23843358565466,84.04180331373509,84.04180331373509,83.7258627265213,83.31432479505763,82.83786872953834,82.32717374015778,81.8129190371103,81.32578383059023,80.8964473307919,80.55558874790967,80.33388729213786,80.33388729213786,80.25413422498461,80.30756901321341,80.47754317490144,80.74740822812598,81.10051569096427,81.52021708149357,81.98986391779113,82.49280771793418,83.0124,83.0124,83.31015946983982,83.62406073840185,83.97024560440829,84.36485586658128,84.8240333236431,85.36391977431586,86.00065701732183,86.75038685138318,87.62925107522213,87.62925107522213,88.64087842517603,89.7388453880431,90.86421538823667,91.95805185017015,92.96141819825688,93.81537785691025,94.46099425054365,94.83933080357042,94.89145094040394,94.89145094040394,94.58302255200486,93.97813139552302,93.16546769465542,92.23372167309917,91.27158355455131,90.36774356270891,89.61089192126904,89.08971885392879,88.89291458438521,88.89291458438521,89.08673839124705,89.64772577277003,90.52998128212148,91.68760947246871,93.07471489697916,94.64540210882012,96.35377566115902,98.1539401071632,100.0,100.0,100.0,100.0,72.3675,72.3675,73.29927868488937,74.22394959487264,75.13440495504352,76.02353699049588,76.88423792632356,77.70939998762039,78.49191539948018,79.22467638699678,79.90057517526401,79.90057517526401,80.51141984167663,81.04468187283327,81.48674860763342,81.82400738497661,82.04284554376238,82.1296504228903,82.07080936125988,81.85270969777063,81.46173877132212,81.46173877132212,80.89408436615064,80.18513604783969,79.38008382730948,78.52411771548026,77.66242772327229,76.84020386160579,76.10263614140104,75.49491457357826,75.0622291690577,75.0622291690577,74.8381600077873,74.80984744582577,74.95282190825948,75.24261382017484,75.65475360665822,76.16477169279605,76.74819850367467,77.38056446438054,78.0374,null,0.0,0.672500957386214,1.3738315655462645,2.1328214752539876,2.97830033728322,3.9390978024077983,5.044043521401557,6.321967145038334,7.801698324091966,9.51206670933629,9.51206670933629,11.458080813593504,13.549464597879298,15.6721208852577,17.71195249879276,19.55486226154851,21.086752996589006,22.193527526978293,22.7610886757804,22.675339266059378,22.675339266059378,21.870310085876806,20.47254378328442,18.65671097133149,16.597482263067274,14.46952827154105,12.447519609802086,10.706126890899654,9.420020727883017,8.763871733801448,8.763871733801448,8.868338238381476,9.688029438058697,11.133542245945954,13.1154735751561,15.54442033880199,18.33097944999647,21.385747821852398,24.619322367482624,27.9423,27.9423,27.091550734567196,26.25023495978339,25.427786166297572,24.633637844758734,23.877223485815875,23.167976580117976,22.515330618314046,21.928719091053072,21.417575488984046,21.417575488984046,20.990778979240893,20.654991434897294,20.416320405511826,20.280873440643084,20.254758089849677,20.34408190269019,20.554952428723222,20.89347721750737,21.365763818601234,21.365763818601234,21.97139810161093,22.683879216332738,23.470184632610437,24.29729182028783,25.13217824920871,25.94182138921687,26.693198710156107,27.35328768187022,27.889065774203004,27.889065774203004,28.275927793682385,28.522937893572852,28.647577563823013,28.667328294381484,28.599671575196876,28.462088896217807,28.272061747392897,28.047071618670756,27.8046,27.8046,26.907787958507857,25.984839685588064,25.009618949812946,23.955989519754837,22.797815163986083,21.50895965107902,20.063286749605993,18.43466022813933,16.596943855251375,16.596943855251375,14.547540856021575,12.378012281557835,10.203458639475155,8.138980437388545,6.299678182913013,4.80065238366357,3.7570035472552235,3.2838321813029805,3.496238793421851,3.496238793421851,4.459714977684175,6.041316673991635,8.058490908703238,10.328684708177995,12.669345098774922,14.897919106853024,16.83185375877132,18.288596080888816,19.08559309956453,19.08559309956453,19.086315453006566,18.338328226819478,16.935220118456897,14.970579825372461,12.537996045019817,9.731057474852609,6.643352812324478,3.36847075488906,0.0,-0.0,0.0,null,100.0,99.11458201877078,98.21720158658336,97.29589625247948,96.3387035655009,95.33366107468939,94.26880632908676,93.13217687773474,91.91181026967514,90.59574405394972,90.59574405394972,89.1854466856633,87.73611024417309,86.3163577148993,84.99481208326216,83.84009633468192,82.92083345457878,82.30564642837304,82.0631582414849,82.26199187933459,82.26199187933459,82.9395314173342,84.0082052908633,85.3492030252932,86.8437141459953,88.37292817834104,89.8180346477017,91.06022307944872,91.98068299895345,92.46060393158731,92.46060393158731,92.41133547185416,91.86486749078816,90.88334992855583,89.5289327253238,87.86376582125871,85.94999915652718,83.84978267129581,81.6252663057312,79.3386,79.3386,79.58632728436295,79.81966077720867,80.02420668701977,80.18557122227898,80.289360591469,80.32118100307252,80.26663866557229,80.11133978745096,79.84089057719126,79.84089057719126,79.44869501667205,78.95934818135696,78.40524292010569,77.81877208177802,77.23232851523373,76.67830506933254,76.18909459293427,75.79708993489864,75.53468394408542,75.53468394408542,75.42273751961395,75.43598376164192,75.53762382058663,75.69085884686528,75.8588899908952,76.00491840309363,76.09214523387786,76.08377163366515,75.94299875287277,75.94299875287277,75.6422941822218,75.19119127364877,74.60848981939384,73.9129896116973,73.12349044279944,72.25879210494051,71.33769439036078,70.37899709130052,69.4015,69.4015,70.48553112335192,71.56237944464709,72.62486216182862,73.66579647283973,74.67799957562364,75.65428866812353,76.58748094828259,77.47039361404404,78.29584386335105,78.29584386335105,79.05442863403208,79.72786382345674,80.29564506887984,80.73726800755617,81.0322282767406,81.16002151368794,81.10014335565303,80.8320894398907,80.33535540365577,80.33535540365577,79.60271961870428,78.68009139479726,77.62666277619682,76.50162580716517,75.36417253196454,74.27349499485706,73.28878524010496,72.46923531197041,71.87403725471562,71.87403725471562,71.547266958649,71.47253569826414,71.61833859410075,71.95317076669866,72.44552733659764,73.06390342433747,73.77679415045796,74.55269463549887,75.3601,75.3601,100.0,100.0,100.0,null,40.6495,40.84730020407281,41.052769301049835,41.27357618383527,41.517389745333304,41.791878878448166,42.10471247608404,42.46355943114514,42.876088636535684,43.34996898515986,43.34996898515986,43.88701283585795,44.46560641121462,45.05827939975055,45.63756148998646,46.175982370443066,46.64607172964109,47.020359256101244,47.27137463834424,47.37164756489079,47.37164756489079,47.30540936960258,47.1036979677052,46.80925291976517,46.46481378634905,46.11312012802336,45.79691150535467,45.558927478909524,45.44190760925446,45.488591456956016,45.488591456956016,45.73077229882106,46.15645827661783,46.742711248354844,47.466593072040624,48.30516560568372,49.23549070729266,50.23463023487601,51.27964604644227,52.3476,52.3476,51.86325358636089,51.387767963799284,50.930003923392626,50.498822256218375,50.10308375335403,49.751649205877065,49.45337940486496,49.217135141395175,49.05177720654521,49.05177720654521,48.96353510130123,48.948113166284365,48.998584452024375,49.108022009051076,49.26949888789429,49.47608813908378,49.7208628131494,49.99689596062093,50.297260632028184,50.297260632028184,50.615407797452775,50.94630010518366,51.28527812306157,51.62768241892727,51.96885356062151,52.30413211598505,52.62885865285865,52.93837373908307,53.22801794249906,53.22801794249906,53.4943626680659,53.73890266921703,53.96436353650442,54.173470860480016,54.368950231695806,54.553527240703716,54.72992747805576,54.90087653430386,55.0691,55.0691,54.09514980699241,53.11495070703692,52.122253793185564,51.11081015849042,50.07437089600357,49.00668709877708,47.901509859863026,46.75259027231347,45.553679429180505,45.553679429180505,44.30874681618236,43.062635489702025,41.8704068987886,40.787122492491264,39.86784371985914,39.16763202994138,38.74154887178713,38.64465569444551,38.93201394696568,38.93201394696568,39.63235401919913,40.66908206420683,41.93927317585206,43.34000244799812,44.76834497450831,46.12137584924594,47.296170166074326,48.18980301885675,48.699349501456524,48.699349501456524,48.748057586098966,48.36386675845756,47.60088938256777,46.51323782246507,45.15502444218495,43.5803616057629,41.84336167723441,39.99813702063494,38.0988,38.0988,38.06728915389555,38.02528440760496,37.962291860941995,37.86781761372052,37.73136776575434,37.5424484168573,37.29056566684322,36.965225615525924,36.55593436271925,36.55593436271925,36.059160608526454,35.49922345420867,34.90740460131641,34.31498575140024,33.75324860601072,33.2534748666984,32.84694623501382,32.56494441250753,32.438751100730094,32.438751100730094,32.48721037085975,32.679415772585564,32.97202322522428,33.321688648092625,33.68506796050738,34.018817081785265,34.27959193124305,34.42404842819748,34.4088424919653,34.4088424919653,34.20161343519694,33.81393414387761,33.26836089732616,32.58744997486147,31.79375765580242,30.909840219467867,29.9582539451767,28.961555112247787,27.9423,27.9423,27.091550734567196,26.25023495978339,25.427786166297572,24.633637844758734,23.877223485815875,23.167976580117976,22.515330618314046,21.928719091053072,21.417575488984046,21.417575488984046,20.990778979240893,20.654991434897294,20.416320405511826,20.280873440643084,20.254758089849677,20.34408190269019,20.554952428723222,20.89347721750737,21.365763818601234,21.365763818601234,21.97139810161093,22.683879216332738,23.470184632610437,24.29729182028783,25.13217824920871,25.94182138921687,26.693198710156107,27.35328768187022,27.889065774203004,27.889065774203004,28.275927793682385,28.522937893572852,28.647577563823013,28.667328294381484,28.599671575196876,28.462088896217807,28.272061747392897,28.047071618670756,27.8046,null,35.4301,34.940566353180095,34.46008209593968,33.99769661785822,33.562459308515194,33.1634195574901,32.80962675436241,32.51013028871161,32.27397955011716,32.110223928158575,32.110223928158575,32.02516878528594,32.01414337543195,32.06973292539986,32.18452266199299,32.35109781201463,32.562043602268055,32.809945259556585,33.0873880106835,33.38695708245209,33.38695708245209,33.70178311918827,34.02717843530846,34.35900076275163,34.69310783345681,35.025357379363015,35.35160713240924,35.66771482453453,35.96953818767787,36.25293495377828,36.25293495377828,36.5148711747313,36.756746182258624,36.981067628038446,37.19034316374899,37.38708044106848,37.5737871116751,37.75297082724709,37.92713923946265,38.0988,38.0988,38.06728915389555,38.02528440760496,37.962291860941995,37.86781761372052,37.73136776575434,37.5424484168573,37.29056566684322,36.965225615525924,36.55593436271925,36.55593436271925,36.059160608526454,35.49922345420867,34.90740460131641,34.31498575140024,33.75324860601072,33.2534748666984,32.84694623501382,32.56494441250753,32.438751100730094,32.438751100730094,32.48721037085975,32.679415772585564,32.97202322522428,33.321688648092625,33.68506796050738,34.018817081785265,34.27959193124305,34.42404842819748,34.4088424919653,34.4088424919653,34.20161343519694,33.81393414387761,33.26836089732616,32.58744997486147,31.79375765580242,30.909840219467867,29.9582539451767,28.961555112247787,27.9423,27.9423,24.619322367482624,21.385747821852398,18.33097944999647,15.54442033880199,13.1154735751561,11.133542245945954,9.688029438058697,8.868338238381476,8.763871733801448,8.763871733801448,9.420020727883017,10.706126890899654,12.447519609802086,14.46952827154105,16.597482263067274,18.65671097133149,20.47254378328442,21.870310085876806,22.675339266059378,22.675339266059378,22.7610886757804,22.193527526978293,21.086752996589006,19.55486226154851,17.71195249879276,15.6721208852577,13.549464597879298,11.458080813593504,9.51206670933629,9.51206670933629,7.801698324091966,6.321967145038334,5.044043521401557,3.9390978024077983,2.97830033728322,2.1328214752539876,1.3738315655462645,0.672500957386214,0.0,-0.0,-0.0,-0.0,35.4301,null,0.0,3.36847075488906,6.643352812324478,9.731057474852609,12.537996045019817,14.970579825372461,16.935220118456897,18.338328226819478,19.086315453006566,19.08559309956453,19.08559309956453,18.288596080888816,16.83185375877132,14.897919106853024,12.669345098774922,10.328684708177995,8.058490908703238,6.041316673991635,4.459714977684175,3.496238793421851,3.496238793421851,3.2838321813029805,3.7570035472552235,4.80065238366357,6.299678182913013,8.138980437388545,10.203458639475155,12.378012281557835,14.547540856021575,16.596943855251375,16.596943855251375,18.43466022813933,20.063286749605993,21.50895965107902,22.797815163986083,23.955989519754837,25.009618949812946,25.984839685588064,26.907787958507857,27.8046,27.8046,27.53290152025929,27.273628418849928,27.03920607410321,26.842059864350464,26.694615167923025,26.609297363152216,26.598531828369367,26.674743941905795,26.850359082092837,26.850359082092837,27.132183306274477,27.504545387845436,27.946154779213057,28.43572093278471,28.951953300967787,29.473561336169634,29.979254490797622,30.447742217259137,30.85773396796153,30.85773396796153,31.19489740964677,31.472733066395254,31.71169967662193,31.932255978741786,32.1548607111698,32.39997261232095,32.68805042061022,33.03955287445256,33.474938712262976,33.474938712262976,34.009324621194985,34.63645908335637,35.34474852959345,36.12259939075256,36.95841809768002,37.840611081222164,38.75758477222533,39.69774560153583,40.6495,40.6495,39.62850872783589,38.620847835182545,37.63984770155066,36.69883870645099,35.811151229394284,34.990115649891266,34.24906234745268,33.60132170158927,33.060224091811776,33.060224091811776,32.63713946102554,32.33559600571446,32.15716148575696,32.10340366103153,32.17589029141664,32.37618913679077,32.70586795703239,33.166494512019966,33.75963656163197,33.75963656163197,34.481298056942435,35.305227713807646,36.1996104392794,37.13263114040952,38.07247472424985,38.987326097852204,39.84537016826841,40.61479184255029,41.26377602774967,41.26377602774967,41.76862963866956,42.13814762111773,42.38924692865317,42.53884451483481,42.60385733322164,42.6012023373726,42.54779648084667,42.46055671720282,42.3564,42.3564,0.0,0.0,0.0,null,52.3476,53.59966691236757,54.862984499905224,56.148803437782995,57.46837440117092,58.83294806523911,60.25377510515759,61.74210619609643,63.3091920132257,64.96628323171545,64.96628323171545,66.70955060477121,68.47484519774046,70.1829381540061,71.75460061695104,73.11060372995821,74.17171863641056,74.858716479691,75.09236840318246,74.79344555026785,74.79344555026785,73.91987127921517,72.57817780783276,70.91204956881404,69.06517099485235,67.18122651864114,65.40390057287377,63.876877590243666,62.74384200344422,62.14847824516883,62.14847824516883,62.19790563412092,62.85298303304411,64.03800419069196,65.67726285581811,67.6950527771762,70.0156677035198,72.56340138360255,75.26254756617809,78.0374,78.0374,78.58315635484529,79.12600020612521,79.66301905027433,80.19130038372721,80.70793170291849,81.21000050428275,81.69459428425459,82.15880053926861,82.59970676575941,82.59970676575941,83.01303283997143,83.38902815738867,83.71657449330489,83.98455362301391,84.1818473218096,84.29733736498574,84.31990552783616,84.23843358565466,84.04180331373509,84.04180331373509,83.7258627265213,83.31432479505763,82.83786872953834,82.32717374015778,81.8129190371103,81.32578383059023,80.8964473307919,80.55558874790967,80.33388729213786,80.33388729213786,80.25413422498461,80.30756901321341,80.47754317490144,80.74740822812598,81.10051569096427,81.52021708149357,81.98986391779113,82.49280771793418,83.0124,83.0124,82.21195383642855,81.41743100101672,80.63475482192408,79.86984862731019,79.12863574533468,78.41703950415713,77.74098323193716,77.10639025683435,76.51918390700827,76.51918390700827,75.98654987948714,75.52072334677374,75.13520185023933,74.84348293125525,74.65906413119289,74.59544299142355,74.66611705331862,74.88458385824939,75.2643409475872,75.2643409475872,75.80972041548085,76.4883925671891,77.25886226074802,78.07963435419371,78.90921370556242,79.70610517289023,80.42881361421328,81.03584388756776,81.4857008509898,81.4857008509898,81.74748426491496,81.83267349937677,81.7633428268081,81.56156651964189,81.24941885031105,80.84897409124851,80.38230651488722,79.87149039366007,79.3386,79.3386,79.58632728436295,79.81966077720867,80.02420668701977,80.18557122227898,80.289360591469,80.32118100307252,80.26663866557229,80.11133978745096,79.84089057719126,79.84089057719126,79.44869501667205,78.95934818135696,78.40524292010569,77.81877208177802,77.23232851523373,76.67830506933254,76.18909459293427,75.79708993489864,75.53468394408542,75.53468394408542,75.42273751961395,75.43598376164192,75.53762382058663,75.69085884686528,75.8588899908952,76.00491840309363,76.09214523387786,76.08377163366515,75.94299875287277,75.94299875287277,75.6422941822218,75.19119127364877,74.60848981939384,73.9129896116973,73.12349044279944,72.25879210494051,71.33769439036078,70.37899709130052,69.4015,69.4015,69.3170543458594,69.2140897871272,69.07408741921166,68.87852833752117,68.60889363746408,68.24666441444872,67.77332176388344,67.17034678117662,66.41922056173658,66.41922056173658,65.51446142693335,64.50273660198386,63.4437505380666,62.39720768636015,61.4228124980431,60.580269424293974,59.92928291629137,59.529557425213824,59.44079740223992,59.44079740223992,59.698816132377345,60.24386223595046,60.9922931671127,61.86046638001754,62.764739328818465,63.62146946766894,64.34701425072244,64.85773113213241,65.06997756605239,65.06997756605239,64.92112759748679,64.43262163484428,63.64691667738442,62.606469724366846,61.35373777505119,59.93117782869706,58.38124688456407,56.74640194191184,55.0691,null,40.6495,39.62850872783589,38.620847835182545,37.63984770155066,36.69883870645099,35.811151229394284,34.990115649891266,34.24906234745268,33.60132170158927,33.060224091811776,33.060224091811776,32.63713946102554,32.33559600571446,32.15716148575696,32.10340366103153,32.17589029141664,32.37618913679077,32.70586795703239,33.166494512019966,33.75963656163197,33.75963656163197,34.481298056942435,35.305227713807646,36.1996104392794,37.13263114040952,38.07247472424985,38.987326097852204,39.84537016826841,40.61479184255029,41.26377602774967,41.26377602774967,41.76862963866956,42.13814762111773,42.38924692865317,42.53884451483481,42.60385733322164,42.6012023373726,42.54779648084667,42.46055671720282,42.3564,42.3564,72.3675,72.3675,73.29927868488937,74.22394959487264,75.13440495504352,76.02353699049588,76.88423792632356,77.70939998762039,78.49191539948018,79.22467638699678,79.90057517526401,79.90057517526401,80.51141984167663,81.04468187283327,81.48674860763342,81.82400738497661,82.04284554376238,82.1296504228903,82.07080936125988,81.85270969777063,81.46173877132212,81.46173877132212,80.89408436615064,80.18513604783969,79.38008382730948,78.52411771548026,77.66242772327229,76.84020386160579,76.10263614140104,75.49491457357826,75.0622291690577,75.0622291690577,74.8381600077873,74.80984744582577,74.95282190825948,75.24261382017484,75.65475360665822,76.16477169279605,76.74819850367467,77.38056446438054,78.0374,78.0374,75.26254756617809,72.56340138360255,70.0156677035198,67.6950527771762,65.67726285581811,64.03800419069196,62.85298303304411,62.19790563412092,62.14847824516883,62.14847824516883,62.74384200344422,63.876877590243666,65.40390057287377,67.18122651864114,69.06517099485235,70.91204956881404,72.57817780783276,73.91987127921517,74.79344555026785,74.79344555026785,75.09236840318246,74.858716479691,74.17171863641056,73.11060372995821,71.75460061695104,70.1829381540061,68.47484519774046,66.70955060477121,64.96628323171545,64.96628323171545,63.3091920132257,61.74210619609643,60.25377510515759,58.83294806523911,57.46837440117092,56.148803437782995,54.862984499905224,53.59966691236757,52.3476,52.3476,51.27964604644227,50.23463023487601,49.23549070729266,48.30516560568372,47.466593072040624,46.742711248354844,46.15645827661783,45.73077229882106,45.488591456956016,45.488591456956016,45.44190760925446,45.558927478909524,45.79691150535467,46.11312012802336,46.46481378634905,46.80925291976517,47.1036979677052,47.30540936960258,47.37164756489079,47.37164756489079,47.27137463834424,47.020359256101244,46.64607172964109,46.175982370443066,45.63756148998646,45.05827939975055,44.46560641121462,43.88701283585795,43.34996898515986,43.34996898515986,42.876088636535684,42.46355943114514,42.10471247608404,41.791878878448166,41.517389745333304,41.27357618383527,41.052769301049835,40.84730020407281,40.6495,null,75.3601,74.55269463549887,73.77679415045796,73.06390342433747,72.44552733659764,71.95317076669866,71.61833859410075,71.47253569826414,71.547266958649,71.87403725471562,71.87403725471562,72.46923531197041,73.28878524010496,74.27349499485706,75.36417253196454,76.50162580716517,77.62666277619682,78.68009139479726,79.60271961870428,80.33535540365577,80.33535540365577,80.8320894398907,81.10014335565303,81.16002151368794,81.0322282767406,80.73726800755617,80.29564506887984,79.72786382345674,79.05442863403208,78.29584386335105,78.29584386335105,77.47039361404404,76.58748094828259,75.65428866812353,74.67799957562364,73.66579647283973,72.62486216182862,71.56237944464709,70.48553112335192,69.4015,69.4015,69.3170543458594,69.2140897871272,69.07408741921166,68.87852833752117,68.60889363746408,68.24666441444872,67.77332176388344,67.17034678117662,66.41922056173658,66.41922056173658,65.51446142693335,64.50273660198386,63.4437505380666,62.39720768636015,61.4228124980431,60.580269424293974,59.92928291629137,59.529557425213824,59.44079740223992,59.44079740223992,59.698816132377345,60.24386223595046,60.9922931671127,61.86046638001754,62.764739328818465,63.62146946766894,64.34701425072244,64.85773113213241,65.06997756605239,65.06997756605239,64.92112759748679,64.43262163484428,63.64691667738442,62.606469724366846,61.35373777505119,59.93117782869706,58.38124688456407,56.74640194191184,55.0691,55.0691,54.09514980699241,53.11495070703692,52.122253793185564,51.11081015849042,50.07437089600357,49.00668709877708,47.901509859863026,46.75259027231347,45.553679429180505,45.553679429180505,44.30874681618236,43.062635489702025,41.8704068987886,40.787122492491264,39.86784371985914,39.16763202994138,38.74154887178713,38.64465569444551,38.93201394696568,38.93201394696568,39.63235401919913,40.66908206420683,41.93927317585206,43.34000244799812,44.76834497450831,46.12137584924594,47.296170166074326,48.18980301885675,48.699349501456524,48.699349501456524,48.748057586098966,48.36386675845756,47.60088938256777,46.51323782246507,45.15502444218495,43.5803616057629,41.84336167723441,39.99813702063494,38.0988,38.0988,37.92713923946265,37.75297082724709,37.5737871116751,37.38708044106848,37.19034316374899,36.981067628038446,36.756746182258624,36.5148711747313,36.25293495377828,36.25293495377828,35.96953818767787,35.66771482453453,35.35160713240924,35.025357379363015,34.69310783345681,34.35900076275163,34.02717843530846,33.70178311918827,33.38695708245209,33.38695708245209,33.0873880106835,32.809945259556585,32.562043602268055,32.35109781201463,32.18452266199299,32.06973292539986,32.01414337543195,32.02516878528594,32.110223928158575,32.110223928158575,32.27397955011716,32.51013028871161,32.80962675436241,33.1634195574901,33.562459308515194,33.99769661785822,34.46008209593968,34.940566353180095,35.4301,35.4301,75.3601,null,79.3386,81.6252663057312,83.84978267129581,85.94999915652718,87.86376582125871,89.5289327253238,90.88334992855583,91.86486749078816,92.41133547185416,92.46060393158731,92.46060393158731,91.98068299895345,91.06022307944872,89.8180346477017,88.37292817834104,86.8437141459953,85.3492030252932,84.0082052908633,82.9395314173342,82.26199187933459,82.26199187933459,82.0631582414849,82.30564642837304,82.92083345457878,83.84009633468192,84.99481208326216,86.3163577148993,87.73611024417309,89.1854466856633,90.59574405394972,90.59574405394972,91.91181026967514,93.13217687773474,94.26880632908676,95.33366107468939,96.3387035655009,97.29589625247948,98.21720158658336,99.11458201877078,100.0,100.0,100.0,100.0,98.1539401071632,96.35377566115902,94.64540210882012,93.07471489697916,91.68760947246871,90.52998128212148,89.64772577277003,89.08673839124705,88.89291458438521,88.89291458438521,89.08971885392879,89.61089192126904,90.36774356270891,91.27158355455131,92.23372167309917,93.16546769465542,93.97813139552302,94.58302255200486,94.89145094040394,94.89145094040394,94.83933080357042,94.46099425054365,93.81537785691025,92.96141819825688,91.95805185017015,90.86421538823667,89.7388453880431,88.64087842517603,87.62925107522213,87.62925107522213,86.75038685138318,86.00065701732183,85.36391977431586,84.8240333236431,84.36485586658128,83.97024560440829,83.62406073840185,83.31015946983982,83.0124,83.0124,82.21195383642855,81.41743100101672,80.63475482192408,79.86984862731019,79.12863574533468,78.41703950415713,77.74098323193716,77.10639025683435,76.51918390700827,76.51918390700827,75.98654987948714,75.52072334677374,75.13520185023933,74.84348293125525,74.65906413119289,74.59544299142355,74.66611705331862,74.88458385824939,75.2643409475872,75.2643409475872,75.80972041548085,76.4883925671891,77.25886226074802,78.07963435419371,78.90921370556242,79.70610517289023,80.42881361421328,81.03584388756776,81.4857008509898,81.4857008509898,81.74748426491496,81.83267349937677,81.7633428268081,81.56156651964189,81.24941885031105,80.84897409124851,80.38230651488722,79.87149039366007,79.3386,null],\"y\":[73.4178,73.83314847174464,74.24174977821497,74.63685675413653,75.01172223423498,75.35959905323597,75.67374004586509,75.94739804684804,76.17382589091041,76.34627641277784,76.34627641277784,76.45945826883202,76.51390340207905,76.51159957718099,76.45453455879996,76.3446961115981,76.18407200023748,75.97464998938028,75.7184178436886,75.41736332782452,75.41736332782452,75.0747357865098,74.69883088470488,74.29920586742968,73.8854179797042,73.4670244665485,73.05358257298252,72.6546495440263,72.27978262469983,71.93853906002312,71.93853906002312,71.63808358011153,71.37601085546197,71.14752304166664,70.94782229431782,70.77211076900775,70.61559062132868,70.47346400687287,70.34093308123255,70.2132,70.2132,70.74256363901151,71.26788115663916,71.785106431499,72.29019334220717,72.7790957673798,73.24776758563297,73.6921626755828,74.10823491584539,74.49193818503687,74.49193818503687,74.83837749433636,75.13926238517504,75.38545353154717,75.5678116074469,75.67719728686848,75.7044712438061,75.64049415225399,75.47612668620636,75.20222951965741,75.20222951965741,74.81581973762862,74.33854006925061,73.7981896546812,73.22256763407823,72.63947314759957,72.07670533540309,71.56206333764663,71.12334629448803,70.78835334608515,70.78835334608515,70.57781482710816,70.48418585027659,70.49285272282224,70.58920175197693,70.7586192449725,70.98649150904075,71.25820485141354,71.55914557932269,71.8747,71.8747,100.0,100.0,100.0,100.0,98.23124525196997,96.46658183472344,94.71010107904377,92.96589431571444,91.23805287551886,89.53066808924052,87.84783128766287,86.19363380156932,84.57216696174333,84.57216696174333,82.99455371413129,81.50004346533146,80.13491723710501,78.94545605121311,77.97794092941696,77.27865289347773,76.89387296515662,76.86988216621482,77.2529615184135,77.2529615184135,78.06293264219042,79.21377955268973,80.59302686373206,82.08819918913812,83.58682114272862,84.9764173383242,86.14451238974559,86.97863091081344,87.36629751534846,87.36629751534846,87.22413322047366,86.58514465652142,85.51143485712639,84.06510685592326,82.3082636865467,80.3030083826314,78.11144397781209,75.79567350572339,73.4178,null,32.9562,33.642191648963454,34.325951988972534,35.005249711072835,35.67785350630997,36.341532065729574,36.99405408037723,37.63318824129858,38.25670323953923,38.862367766144786,38.862367766144786,39.44480024169817,39.98601800493164,40.46488812411468,40.86027766751682,41.151053703407605,41.31608330005656,41.33423352573322,41.1843714487071,40.84536413724774,40.84536413724774,40.307711875691446,39.608447812641714,38.79623831276876,37.919749740742844,37.027648461234236,36.168600838913164,35.39127323844991,34.7443320245147,34.2764435617778,34.2764435617778,34.02394613346685,33.97386569703908,34.10090012850907,34.37974730389143,34.78510509920076,35.29167139045168,35.874144053658796,36.5072209648367,37.1656,37.1656,38.23683482363369,39.32503556705801,40.44716815006356,41.62019849244095,42.86109251398081,44.18681613447373,45.61433527371035,47.16061585148128,48.84262378757714,48.84262378757714,50.65988446492708,52.54216111901452,54.40177644846139,56.151053151889634,57.70231392792121,58.96788147517805,59.86007849228211,60.291227677855346,60.173651730519694,60.173651730519694,59.459250376679925,58.2582314538723,56.72037982741579,54.995480362629465,53.23331792483236,51.58367737934352,50.19634359148199,49.22110142656681,48.80773574991703,48.80773574991703,49.067888368676556,49.96062885728894,51.40688373202253,53.327579509145735,55.643642704926975,58.27599983563461,61.14557741753707,64.17330196690273,67.2801,67.2801,66.57943761280526,65.89557926850948,65.2453290100115,64.64549088021028,64.11286892200471,63.66426717829374,63.31648969197626,63.0863405059512,62.990623663117475,62.990623663117475,63.03965163906363,63.217770640136884,63.50283530537399,63.872700273811766,64.30522018448701,64.77824967643657,65.26964338869722,65.75725596030578,66.21894203029906,66.21894203029906,66.63787204912794,67.01847971289968,67.37051452913558,67.70372600535694,68.02786364908513,68.35267696784143,68.68791546914719,69.0433286605237,69.4286660494923,69.4286660494923,69.85131752741124,70.30923452098656,70.7980088407612,71.31323229727808,71.85049670108019,72.40539386271048,72.9735155927119,73.55045370162742,74.1318,74.1318,32.9562,null,35.4998,34.998598347091416,34.50738151783506,34.0361343358831,33.594841624887756,33.19348820850122,32.84205891037571,32.55053855416344,32.32891196351659,32.18716396208738,32.18716396208738,32.132106957786526,32.15786369555883,32.25538450460758,32.41561971413609,32.629519653347664,32.88803465144561,33.18211503763323,33.502711141113835,33.84077329109073,33.84077329109073,34.18837620859049,34.542092181932865,34.899617891260824,35.2586500167174,35.61688523844557,35.97202023658834,36.32175169128874,36.663776282689746,36.99579069093437,36.99579069093437,37.316103510642016,37.625470994337796,37.92526130902315,38.216842621699584,38.50158309936859,38.78085090903164,39.05601421769024,39.32844119234586,39.5995,39.5995,38.81385604810989,38.028529140806356,37.24383632267594,36.4600946383052,35.67762113228071,34.896732849189036,34.117746833616735,33.34098013015036,32.566749783376494,32.566749783376494,31.80036891381582,31.067134945725662,30.39734137929744,29.821281714722602,29.36924945219259,29.071538091898848,28.958441134032817,29.060252078785943,29.40726442634966,29.40726442634966,30.014058733375332,30.832363782354015,31.798195412236673,32.84756946197428,33.9165017705178,34.9410081768182,35.857104519826464,36.60080663849356,37.10813037177044,37.10813037177044,37.33131785482809,37.28751640771755,37.01009964670982,36.532441188075914,35.88791464808689,35.10989364301376,34.23175178912755,33.28686270269929,32.3086,32.3086,31.248670988814474,30.173514329567745,29.067902374198585,27.91660747464577,26.704401982848097,25.41605825074435,24.036348630273313,22.550045473373768,20.9419211319845,20.9419211319845,19.2123982134892,17.424500347051207,15.656901417278739,13.988275308780029,12.497295906163316,11.262637094036828,10.362972757008803,9.876976779687471,9.883323046681063,9.883323046681063,10.424780130210172,11.400495352944834,12.673710725167428,14.107668257160347,15.565609959205982,16.910777841586718,18.006413914584947,18.715760188483053,18.902058673563435,18.902058673563435,18.463563003923166,17.438573308918162,15.900401341718998,13.922358855496272,11.577757603420578,8.93990933866251,6.082125814392665,3.0777187837816298,0.0,0.0,0.0,0.0,35.4998,null,73.2383,71.97324836699869,70.71689525381156,69.47793918025272,68.26507866613635,67.08701223127656,65.95243839548753,64.87005567858341,63.84856260037836,62.896657680686516,62.896657680686516,62.02544538155361,61.25565393395175,60.610417511084535,60.11287028615565,59.786146432368746,59.65338012292746,59.73770553103547,60.06225682989642,60.65016819271396,60.65016819271396,61.50938242899214,62.58707689343669,63.81523757705366,65.12585047084914,66.45090156582927,67.7223768530001,68.87226232336774,69.83254396793828,70.53520777771783,70.53520777771783,70.92960563120745,71.03455295688832,70.88623107073643,70.52082128872794,69.97450492683896,69.28346330104557,68.48387772732389,67.61192952165,66.7038,66.7038,65.82236616223182,64.91392473319888,63.95146812163639,62.90798873627956,61.75647898586363,60.46993127912381,59.021338024795355,57.383691631613466,55.529984508313376,55.529984508313376,53.45707217648468,51.2572626091346,49.046726892124674,46.941636111316456,45.058161352571524,43.51247370175146,42.42074424471782,41.89914406733217,42.06384425545609,42.06384425545609,42.98106644146046,44.5172344437536,46.488822627253114,48.7123053568766,51.004156997541706,53.18085191416603,55.05886447166722,56.454669034962876,57.18473996897063,57.18473996897063,57.11186626786941,56.284095442883526,54.79578963449852,52.74131098319998,50.21502162947351,47.311283713804684,44.124459376679106,40.74891075858235,37.279,37.279,37.90836299927521,38.52403280272335,39.112316214517314,39.65952003883001,40.15195107983437,40.57591614170329,40.917722028609695,41.1636755447265,41.30008349422663,41.30008349422663,41.31793598125905,41.22695630987713,41.041551084110274,40.776126907987894,40.44509038553943,40.0628481207943,39.643806717781914,39.2023727805317,38.752952913073074,38.752952913073074,38.30735135410601,37.86696288101273,37.43057990584599,36.99699484065852,36.5650000975031,36.13338808843249,35.70095122549944,35.2664819207567,34.82877258625706,34.82877258625706,34.38689926200193,33.941072499787566,33.49178647935885,33.03953538046069,32.58481338283799,32.12811466623566,31.669933410398624,31.210763795071763,30.7511,30.7511,31.849938086500025,32.94327178925874,34.02559672453482,35.09140850858694,36.135202757673795,37.151475088054056,38.13472111598642,39.079436457729564,39.98011672954217,39.98011672954217,40.82766900440429,41.59864618218162,42.26601261946116,42.80273267282995,43.181770698875034,43.37609105418345,43.35865809534223,43.10243617893842,42.58038966155905,42.58038966155905,41.78142606697458,40.758225587689154,39.5794115833903,38.31360741376557,37.02943643850251,35.79552201728866,34.6804875098116,33.75295627575885,33.08155167481795,33.08155167481795,32.717445951306324,32.64200688806086,32.81915115254826,33.21279541223526,33.7868563345886,34.50525058707501,35.33189483716123,36.23070575231398,37.1656,37.1656,38.23683482363369,39.32503556705801,40.44716815006356,41.62019849244095,42.86109251398081,44.18681613447373,45.61433527371035,47.16061585148128,48.84262378757714,48.84262378757714,50.65988446492708,52.54216111901452,54.40177644846139,56.151053151889634,57.70231392792121,58.96788147517805,59.86007849228211,60.291227677855346,60.173651730519694,60.173651730519694,59.459250376679925,58.2582314538723,56.72037982741579,54.995480362629465,53.23331792483236,51.58367737934352,50.19634359148199,49.22110142656681,48.80773574991703,48.80773574991703,49.067888368676556,49.96062885728894,51.40688373202253,53.327579509145735,55.643642704926975,58.27599983563461,61.14557741753707,64.17330196690273,67.2801,null,0.0,0.8940408884024981,1.8188761527187338,2.8053001688624444,3.8841073127473678,5.0860919602872405,6.442048487395798,7.982771269986782,9.73905468397393,11.741693105270976,11.741693105270976,13.994760532654961,16.39544945635616,18.81423198946814,21.121580245084463,23.187966336298718,24.883862376204462,26.07974047789527,26.646072754464726,26.453331319006384,26.453331319006384,25.427260143837746,23.714690638172026,21.517726070446322,19.03846970909778,16.479024822563513,14.041494679280653,11.927982547686323,10.340591696217647,9.481425393311753,9.481425393311753,9.5016747364255,10.348882139094723,11.919677843874979,14.11069209332184,16.81855512999087,19.93989719643763,23.371348535217695,27.00953938888663,30.7511,30.7511,31.849938086500025,32.94327178925874,34.02559672453482,35.09140850858694,36.135202757673795,37.151475088054056,38.13472111598642,39.079436457729564,39.98011672954217,39.98011672954217,40.82766900440429,41.59864618218162,42.26601261946116,42.80273267282995,43.181770698875034,43.37609105418345,43.35865809534223,43.10243617893842,42.58038966155905,42.58038966155905,41.78142606697458,40.758225587689154,39.5794115833903,38.31360741376557,37.02943643850251,35.79552201728866,34.6804875098116,33.75295627575885,33.08155167481795,33.08155167481795,32.717445951306324,32.64200688806086,32.81915115254826,33.21279541223526,33.7868563345886,34.50525058707501,35.33189483716123,36.23070575231398,37.1656,37.1656,36.5072209648367,35.874144053658796,35.29167139045168,34.78510509920076,34.37974730389143,34.10090012850907,33.97386569703908,34.02394613346685,34.2764435617778,34.2764435617778,34.7443320245147,35.39127323844991,36.168600838913164,37.027648461234236,37.919749740742844,38.79623831276876,39.608447812641714,40.307711875691446,40.84536413724774,40.84536413724774,41.1843714487071,41.33423352573322,41.31608330005656,41.151053703407605,40.86027766751682,40.46488812411468,39.98601800493164,39.44480024169817,38.862367766144786,38.862367766144786,38.25670323953923,37.63318824129858,36.99405408037723,36.341532065729574,35.67785350630997,35.005249711072835,34.325951988972534,33.642191648963454,32.9562,32.9562,0.0,0.0,0.0,null,74.1318,73.55045370162742,72.9735155927119,72.40539386271048,71.85049670108019,71.31323229727808,70.7980088407612,70.30923452098656,69.85131752741124,69.4286660494923,69.4286660494923,69.0433286605237,68.68791546914719,68.35267696784143,68.02786364908513,67.70372600535694,67.37051452913558,67.01847971289968,66.63787204912794,66.21894203029906,66.21894203029906,65.75725596030578,65.26964338869722,64.77824967643657,64.30522018448701,63.872700273811766,63.50283530537399,63.217770640136884,63.03965163906363,62.990623663117475,62.990623663117475,63.0863405059512,63.31648969197626,63.66426717829374,64.11286892200471,64.64549088021028,65.2453290100115,65.89557926850948,66.57943761280526,67.2801,67.2801,68.2223480644048,69.15834761623869,70.08185014293069,70.98660713190988,71.86637007060536,72.71489044644618,73.52591974686139,74.29320945928008,75.01051107113132,75.01051107113132,75.66977031468683,76.2557099015891,76.75124678832327,77.13929793137444,77.40278028722777,77.52461081236841,77.48770646328147,77.27498419645211,76.86936096836546,76.86936096836546,76.26498942994664,75.50096500988089,74.62761883129335,73.69528201730922,72.75428569105371,71.85496097565198,71.04763899422927,70.38265086991073,69.91032772582156,69.91032772582156,69.66811223672619,69.64189328394599,69.80467130044157,70.1294467191735,70.58921997310242,71.15699149518893,71.80576171839363,72.50853107567711,73.2383,73.2383,73.97608285376249,74.73457459424746,75.53448410817728,76.39652028227444,77.34139200326135,78.38980815786046,79.56247763279424,80.88010931478509,82.36341209055549,82.36341209055549,84.01491086315662,85.76439460095489,87.52346828864535,89.20373691092317,90.71680545248347,91.97427889802138,92.88776223223205,93.36886043981056,93.32917850545208,93.32917850545208,92.71861701620419,91.64025896852475,90.23548296122394,88.64566759311201,87.01219146299927,85.47643316969597,84.17977131201238,83.26358448875874,82.86925129874534,82.86925129874534,83.10230516260941,83.92489878829616,85.26333970557776,87.04393544422632,89.19299353401406,91.63682150471313,94.3017268860957,97.11401720793393,100.0,100.0,100.0,100.0,74.1318,null,66.7038,66.13633500428558,65.58187060626237,65.05340740362153,64.56394599405427,64.12648697525175,63.75403094490518,63.459578500705746,63.256130240344646,63.156686761513065,63.156686761513065,63.16963685835233,63.28492211080443,63.48787229526147,63.76381718811554,64.09808656575879,64.47601020458333,64.88291788098125,65.30413937134469,65.72500445206576,65.72500445206576,66.13384575760038,66.53100735465989,66.9198361680193,67.30367912245376,67.68588314273836,68.06979515364819,68.45876207995835,68.85613084644395,69.26524837788008,69.26524837788008,69.68862422843624,70.12541846985967,70.5739538032919,71.03255292987456,71.49953855074922,71.97323336705749,72.45196007994099,72.9340413905413,73.4178,73.4178,73.83314847174464,74.24174977821497,74.63685675413653,75.01172223423498,75.35959905323597,75.67374004586509,75.94739804684804,76.17382589091041,76.34627641277784,76.34627641277784,76.45945826883202,76.51390340207905,76.51159957718099,76.45453455879996,76.3446961115981,76.18407200023748,75.97464998938028,75.7184178436886,75.41736332782452,75.41736332782452,75.0747357865098,74.69883088470488,74.29920586742968,73.8854179797042,73.4670244665485,73.05358257298252,72.6546495440263,72.27978262469983,71.93853906002312,71.93853906002312,71.63808358011153,71.37601085546197,71.14752304166664,70.94782229431782,70.77211076900775,70.61559062132868,70.47346400687287,70.34093308123255,70.2132,70.2132,68.72236605879526,67.22265344888933,65.70518350158105,64.16107754816916,62.581456919952515,60.957442948229925,59.2801569643002,57.54072029946213,55.73025428501455,55.73025428501455,53.85428205550909,51.97593395850886,50.17274214482975,48.52223876528767,47.10195597069852,45.98942591187824,45.26218073964276,44.99775260480796,45.273673658189765,45.273673658189765,46.12992566079863,47.45628881442327,49.10499293104684,50.92826782265257,52.778343301223686,54.507449178743386,55.9678152671949,57.01167137856143,57.49124732482621,57.49124732482621,57.296587400292225,56.46899382854178,55.0875833154769,53.23147256699964,50.979778289012074,48.41161718741627,45.606105968114285,42.64236133700817,39.5995,39.5995,38.81385604810989,38.028529140806356,37.24383632267594,36.4600946383052,35.67762113228071,34.896732849189036,34.117746833616735,33.34098013015036,32.566749783376494,32.566749783376494,31.80036891381582,31.067134945725662,30.39734137929744,29.821281714722602,29.36924945219259,29.071538091898848,28.958441134032817,29.060252078785943,29.40726442634966,29.40726442634966,30.014058733375332,30.832363782354015,31.798195412236673,32.84756946197428,33.9165017705178,34.9410081768182,35.857104519826464,36.60080663849356,37.10813037177044,37.10813037177044,37.33131785482809,37.28751640771755,37.01009964670982,36.532441188075914,35.88791464808689,35.10989364301376,34.23175178912755,33.28686270269929,32.3086,32.3086,33.1670831338481,34.02266471150734,34.87244317678881,35.71351697350363,36.54298454546293,37.357944336477814,38.15549479035941,38.93273435091884,39.68676146196722,39.68676146196722,40.410774914354555,41.08237488708643,41.67526190620732,42.16313649776166,42.51969918779396,42.718650502348666,42.73369096747025,42.538521109203195,42.106841453591954,42.106841453591954,41.42685373168072,40.54476449451267,39.52128149813063,38.41711249857745,37.292965251896035,36.20954751412923,35.2275670413199,34.40773158951092,33.81074891474513,33.81074891474513,33.481957692741865,33.40522027792622,33.54902994439974,33.88187996626397,34.37226361762047,34.98867417257077,35.699604905216425,36.47354908965899,37.279,null,73.2383,73.97608285376249,74.73457459424746,75.53448410817728,76.39652028227444,77.34139200326135,78.38980815786046,79.56247763279424,80.88010931478509,82.36341209055549,82.36341209055549,84.01491086315662,85.76439460095489,87.52346828864535,89.20373691092317,90.71680545248347,91.97427889802138,92.88776223223205,93.36886043981056,93.32917850545208,93.32917850545208,92.71861701620419,91.64025896852475,90.23548296122394,88.64566759311201,87.01219146299927,85.47643316969597,84.17977131201238,83.26358448875874,82.86925129874534,82.86925129874534,83.10230516260941,83.92489878829616,85.26333970557776,87.04393544422632,89.19299353401406,91.63682150471313,94.3017268860957,97.11401720793393,100.0,100.0,100.0,100.0,98.23124525196997,96.46658183472344,94.71010107904377,92.96589431571444,91.23805287551886,89.53066808924052,87.84783128766287,86.19363380156932,84.57216696174333,84.57216696174333,82.99455371413129,81.50004346533146,80.13491723710501,78.94545605121311,77.97794092941696,77.27865289347773,76.89387296515662,76.86988216621482,77.2529615184135,77.2529615184135,78.06293264219042,79.21377955268973,80.59302686373206,82.08819918913812,83.58682114272862,84.9764173383242,86.14451238974559,86.97863091081344,87.36629751534846,87.36629751534846,87.22413322047366,86.58514465652142,85.51143485712639,84.06510685592326,82.3082636865467,80.3030083826314,78.11144397781209,75.79567350572339,73.4178,73.4178,72.9340413905413,72.45196007994099,71.97323336705749,71.49953855074922,71.03255292987456,70.5739538032919,70.12541846985967,69.68862422843624,69.26524837788008,69.26524837788008,68.85613084644395,68.45876207995835,68.06979515364819,67.68588314273836,67.30367912245376,66.9198361680193,66.53100735465989,66.13384575760038,65.72500445206576,65.72500445206576,65.30413937134469,64.88291788098125,64.47601020458333,64.09808656575879,63.76381718811554,63.48787229526147,63.28492211080443,63.16963685835233,63.156686761513065,63.156686761513065,63.256130240344646,63.459578500705746,63.75403094490518,64.12648697525175,64.56394599405427,65.05340740362153,65.58187060626237,66.13633500428558,66.7038,66.7038,67.61192952165,68.48387772732389,69.28346330104557,69.97450492683896,70.52082128872794,70.88623107073643,71.03455295688832,70.92960563120745,70.53520777771783,70.53520777771783,69.83254396793828,68.87226232336774,67.7223768530001,66.45090156582927,65.12585047084914,63.81523757705366,62.58707689343669,61.50938242899214,60.65016819271396,60.65016819271396,60.06225682989642,59.73770553103547,59.65338012292746,59.786146432368746,60.11287028615565,60.610417511084535,61.25565393395175,62.02544538155361,62.896657680686516,62.896657680686516,63.84856260037836,64.87005567858341,65.95243839548753,67.08701223127656,68.26507866613635,69.47793918025272,70.71689525381156,71.97324836699869,73.2383,null,0.0,3.0777187837816298,6.082125814392665,8.93990933866251,11.577757603420578,13.922358855496272,15.900401341718998,17.438573308918162,18.463563003923166,18.902058673563435,18.902058673563435,18.715760188483053,18.006413914584947,16.910777841586718,15.565609959205982,14.107668257160347,12.673710725167428,11.400495352944834,10.424780130210172,9.883323046681063,9.883323046681063,9.876976779687471,10.362972757008803,11.262637094036828,12.497295906163316,13.988275308780029,15.656901417278739,17.424500347051207,19.2123982134892,20.9419211319845,20.9419211319845,22.550045473373768,24.036348630273313,25.41605825074435,26.704401982848097,27.91660747464577,29.067902374198585,30.173514329567745,31.248670988814474,32.3086,32.3086,33.1670831338481,34.02266471150734,34.87244317678881,35.71351697350363,36.54298454546293,37.357944336477814,38.15549479035941,38.93273435091884,39.68676146196722,39.68676146196722,40.410774914354555,41.08237488708643,41.67526190620732,42.16313649776166,42.51969918779396,42.718650502348666,42.73369096747025,42.538521109203195,42.106841453591954,42.106841453591954,41.42685373168072,40.54476449451267,39.52128149813063,38.41711249857745,37.292965251896035,36.20954751412923,35.2275670413199,34.40773158951092,33.81074891474513,33.81074891474513,33.481957692741865,33.40522027792622,33.54902994439974,33.88187996626397,34.37226361762047,34.98867417257077,35.699604905216425,36.47354908965899,37.279,37.279,37.90836299927521,38.52403280272335,39.112316214517314,39.65952003883001,40.15195107983437,40.57591614170329,40.917722028609695,41.1636755447265,41.30008349422663,41.30008349422663,41.31793598125905,41.22695630987713,41.041551084110274,40.776126907987894,40.44509038553943,40.0628481207943,39.643806717781914,39.2023727805317,38.752952913073074,38.752952913073074,38.30735135410601,37.86696288101273,37.43057990584599,36.99699484065852,36.5650000975031,36.13338808843249,35.70095122549944,35.2664819207567,34.82877258625706,34.82877258625706,34.38689926200193,33.941072499787566,33.49178647935885,33.03953538046069,32.58481338283799,32.12811466623566,31.669933410398624,31.210763795071763,30.7511,30.7511,27.00953938888663,23.371348535217695,19.93989719643763,16.81855512999087,14.11069209332184,11.919677843874979,10.348882139094723,9.5016747364255,9.481425393311753,9.481425393311753,10.340591696217647,11.927982547686323,14.041494679280653,16.479024822563513,19.03846970909778,21.517726070446322,23.714690638172026,25.427260143837746,26.453331319006384,26.453331319006384,26.646072754464726,26.07974047789527,24.883862376204462,23.187966336298718,21.121580245084463,18.81423198946814,16.39544945635616,13.994760532654961,11.741693105270976,11.741693105270976,9.73905468397393,7.982771269986782,6.442048487395798,5.0860919602872405,3.8841073127473678,2.8053001688624444,1.8188761527187338,0.8940408884024981,0.0,0.0,0.0,null,39.5995,39.32844119234586,39.05601421769024,38.78085090903164,38.50158309936859,38.216842621699584,37.92526130902315,37.625470994337796,37.316103510642016,36.99579069093437,36.99579069093437,36.663776282689746,36.32175169128874,35.97202023658834,35.61688523844557,35.2586500167174,34.899617891260824,34.542092181932865,34.18837620859049,33.84077329109073,33.84077329109073,33.502711141113835,33.18211503763323,32.88803465144561,32.629519653347664,32.41561971413609,32.25538450460758,32.15786369555883,32.132106957786526,32.18716396208738,32.18716396208738,32.32891196351659,32.55053855416344,32.84205891037571,33.19348820850122,33.594841624887756,34.0361343358831,34.50738151783506,34.998598347091416,35.4998,35.4998,71.8747,71.8747,71.55914557932269,71.25820485141354,70.98649150904075,70.7586192449725,70.58920175197693,70.49285272282224,70.48418585027659,70.57781482710816,70.78835334608515,70.78835334608515,71.12334629448803,71.56206333764663,72.07670533540309,72.63947314759957,73.22256763407823,73.7981896546812,74.33854006925061,74.81581973762862,75.20222951965741,75.20222951965741,75.47612668620636,75.64049415225399,75.7044712438061,75.67719728686848,75.5678116074469,75.38545353154717,75.13926238517504,74.83837749433636,74.49193818503687,74.49193818503687,74.10823491584539,73.6921626755828,73.24776758563297,72.7790957673798,72.29019334220717,71.785106431499,71.26788115663916,70.74256363901151,70.2132,70.2132,68.72236605879526,67.22265344888933,65.70518350158105,64.16107754816916,62.581456919952515,60.957442948229925,59.2801569643002,57.54072029946213,55.73025428501455,55.73025428501455,53.85428205550909,51.97593395850886,50.17274214482975,48.52223876528767,47.10195597069852,45.98942591187824,45.26218073964276,44.99775260480796,45.273673658189765,45.273673658189765,46.12992566079863,47.45628881442327,49.10499293104684,50.92826782265257,52.778343301223686,54.507449178743386,55.9678152671949,57.01167137856143,57.49124732482621,57.49124732482621,57.296587400292225,56.46899382854178,55.0875833154769,53.23147256699964,50.979778289012074,48.41161718741627,45.606105968114285,42.64236133700817,39.5995,null]},{\"mode\":\"markers\",\"type\":\"scatter\",\"x\":[78.0374,83.0124,100.0,100.0,72.3675,78.0374,null,0.0,27.9423,27.8046,-0.0,0.0,null,100.0,79.3386,69.4015,75.3601,100.0,100.0,null,40.649504437844165,52.34763491534599,55.06905440365178,38.098842708300225,27.94229036361957,27.804581795741896,null,35.4301,38.0988,27.9423,-0.0,-0.0,35.4301,null,0.0,27.8046,40.6495,42.3564,0.0,0.0,null,52.34763491534599,78.03743051750989,83.01243418121757,79.33862094684517,69.40149651909532,55.06905440365178,null,40.6495,42.3564,72.3675,78.0374,52.3476,40.6495,null,75.3601,69.4015,55.0691,38.0988,35.4301,75.3601,null,79.3386,100.0,100.0,83.0124,79.3386,null],\"y\":[73.4178,70.2132,71.8747,100.0,100.0,73.4178,null,32.9562,37.1656,67.2801,74.1318,32.9562,null,35.4998,39.5995,32.3086,0.0,0.0,35.4998,null,73.2382648947395,66.70378378327698,37.27898886003666,30.751132999145277,37.16557303060888,67.28014396473462,null,0.0,30.7511,37.1656,32.9562,0.0,0.0,null,74.1318,67.2801,73.2383,100.0,100.0,74.1318,null,66.70378378327698,73.41779900903606,70.21322339322631,39.599481293970314,32.30857204163232,37.27898886003666,null,73.2383,100.0,100.0,73.4178,66.7038,73.2383,null,0.0,32.3086,37.279,30.7511,0.0,0.0,null,39.5995,35.4998,71.8747,70.2132,39.5995,null]}],                        {\"template\":{\"data\":{\"bar\":[{\"error_x\":{\"color\":\"#2a3f5f\"},\"error_y\":{\"color\":\"#2a3f5f\"},\"marker\":{\"line\":{\"color\":\"#E5ECF6\",\"width\":0.5},\"pattern\":{\"fillmode\":\"overlay\",\"size\":10,\"solidity\":0.2}},\"type\":\"bar\"}],\"barpolar\":[{\"marker\":{\"line\":{\"color\":\"#E5ECF6\",\"width\":0.5},\"pattern\":{\"fillmode\":\"overlay\",\"size\":10,\"solidity\":0.2}},\"type\":\"barpolar\"}],\"carpet\":[{\"aaxis\":{\"endlinecolor\":\"#2a3f5f\",\"gridcolor\":\"white\",\"linecolor\":\"white\",\"minorgridcolor\":\"white\",\"startlinecolor\":\"#2a3f5f\"},\"baxis\":{\"endlinecolor\":\"#2a3f5f\",\"gridcolor\":\"white\",\"linecolor\":\"white\",\"minorgridcolor\":\"white\",\"startlinecolor\":\"#2a3f5f\"},\"type\":\"carpet\"}],\"choropleth\":[{\"colorbar\":{\"outlinewidth\":0,\"ticks\":\"\"},\"type\":\"choropleth\"}],\"contour\":[{\"colorbar\":{\"outlinewidth\":0,\"ticks\":\"\"},\"colorscale\":[[0.0,\"#0d0887\"],[0.1111111111111111,\"#46039f\"],[0.2222222222222222,\"#7201a8\"],[0.3333333333333333,\"#9c179e\"],[0.4444444444444444,\"#bd3786\"],[0.5555555555555556,\"#d8576b\"],[0.6666666666666666,\"#ed7953\"],[0.7777777777777778,\"#fb9f3a\"],[0.8888888888888888,\"#fdca26\"],[1.0,\"#f0f921\"]],\"type\":\"contour\"}],\"contourcarpet\":[{\"colorbar\":{\"outlinewidth\":0,\"ticks\":\"\"},\"type\":\"contourcarpet\"}],\"heatmap\":[{\"colorbar\":{\"outlinewidth\":0,\"ticks\":\"\"},\"colorscale\":[[0.0,\"#0d0887\"],[0.1111111111111111,\"#46039f\"],[0.2222222222222222,\"#7201a8\"],[0.3333333333333333,\"#9c179e\"],[0.4444444444444444,\"#bd3786\"],[0.5555555555555556,\"#d8576b\"],[0.6666666666666666,\"#ed7953\"],[0.7777777777777778,\"#fb9f3a\"],[0.8888888888888888,\"#fdca26\"],[1.0,\"#f0f921\"]],\"type\":\"heatmap\"}],\"heatmapgl\":[{\"colorbar\":{\"outlinewidth\":0,\"ticks\":\"\"},\"colorscale\":[[0.0,\"#0d0887\"],[0.1111111111111111,\"#46039f\"],[0.2222222222222222,\"#7201a8\"],[0.3333333333333333,\"#9c179e\"],[0.4444444444444444,\"#bd3786\"],[0.5555555555555556,\"#d8576b\"],[0.6666666666666666,\"#ed7953\"],[0.7777777777777778,\"#fb9f3a\"],[0.8888888888888888,\"#fdca26\"],[1.0,\"#f0f921\"]],\"type\":\"heatmapgl\"}],\"histogram\":[{\"marker\":{\"pattern\":{\"fillmode\":\"overlay\",\"size\":10,\"solidity\":0.2}},\"type\":\"histogram\"}],\"histogram2d\":[{\"colorbar\":{\"outlinewidth\":0,\"ticks\":\"\"},\"colorscale\":[[0.0,\"#0d0887\"],[0.1111111111111111,\"#46039f\"],[0.2222222222222222,\"#7201a8\"],[0.3333333333333333,\"#9c179e\"],[0.4444444444444444,\"#bd3786\"],[0.5555555555555556,\"#d8576b\"],[0.6666666666666666,\"#ed7953\"],[0.7777777777777778,\"#fb9f3a\"],[0.8888888888888888,\"#fdca26\"],[1.0,\"#f0f921\"]],\"type\":\"histogram2d\"}],\"histogram2dcontour\":[{\"colorbar\":{\"outlinewidth\":0,\"ticks\":\"\"},\"colorscale\":[[0.0,\"#0d0887\"],[0.1111111111111111,\"#46039f\"],[0.2222222222222222,\"#7201a8\"],[0.3333333333333333,\"#9c179e\"],[0.4444444444444444,\"#bd3786\"],[0.5555555555555556,\"#d8576b\"],[0.6666666666666666,\"#ed7953\"],[0.7777777777777778,\"#fb9f3a\"],[0.8888888888888888,\"#fdca26\"],[1.0,\"#f0f921\"]],\"type\":\"histogram2dcontour\"}],\"mesh3d\":[{\"colorbar\":{\"outlinewidth\":0,\"ticks\":\"\"},\"type\":\"mesh3d\"}],\"parcoords\":[{\"line\":{\"colorbar\":{\"outlinewidth\":0,\"ticks\":\"\"}},\"type\":\"parcoords\"}],\"pie\":[{\"automargin\":true,\"type\":\"pie\"}],\"scatter\":[{\"marker\":{\"colorbar\":{\"outlinewidth\":0,\"ticks\":\"\"}},\"type\":\"scatter\"}],\"scatter3d\":[{\"line\":{\"colorbar\":{\"outlinewidth\":0,\"ticks\":\"\"}},\"marker\":{\"colorbar\":{\"outlinewidth\":0,\"ticks\":\"\"}},\"type\":\"scatter3d\"}],\"scattercarpet\":[{\"marker\":{\"colorbar\":{\"outlinewidth\":0,\"ticks\":\"\"}},\"type\":\"scattercarpet\"}],\"scattergeo\":[{\"marker\":{\"colorbar\":{\"outlinewidth\":0,\"ticks\":\"\"}},\"type\":\"scattergeo\"}],\"scattergl\":[{\"marker\":{\"colorbar\":{\"outlinewidth\":0,\"ticks\":\"\"}},\"type\":\"scattergl\"}],\"scattermapbox\":[{\"marker\":{\"colorbar\":{\"outlinewidth\":0,\"ticks\":\"\"}},\"type\":\"scattermapbox\"}],\"scatterpolar\":[{\"marker\":{\"colorbar\":{\"outlinewidth\":0,\"ticks\":\"\"}},\"type\":\"scatterpolar\"}],\"scatterpolargl\":[{\"marker\":{\"colorbar\":{\"outlinewidth\":0,\"ticks\":\"\"}},\"type\":\"scatterpolargl\"}],\"scatterternary\":[{\"marker\":{\"colorbar\":{\"outlinewidth\":0,\"ticks\":\"\"}},\"type\":\"scatterternary\"}],\"surface\":[{\"colorbar\":{\"outlinewidth\":0,\"ticks\":\"\"},\"colorscale\":[[0.0,\"#0d0887\"],[0.1111111111111111,\"#46039f\"],[0.2222222222222222,\"#7201a8\"],[0.3333333333333333,\"#9c179e\"],[0.4444444444444444,\"#bd3786\"],[0.5555555555555556,\"#d8576b\"],[0.6666666666666666,\"#ed7953\"],[0.7777777777777778,\"#fb9f3a\"],[0.8888888888888888,\"#fdca26\"],[1.0,\"#f0f921\"]],\"type\":\"surface\"}],\"table\":[{\"cells\":{\"fill\":{\"color\":\"#EBF0F8\"},\"line\":{\"color\":\"white\"}},\"header\":{\"fill\":{\"color\":\"#C8D4E3\"},\"line\":{\"color\":\"white\"}},\"type\":\"table\"}]},\"layout\":{\"annotationdefaults\":{\"arrowcolor\":\"#2a3f5f\",\"arrowhead\":0,\"arrowwidth\":1},\"autotypenumbers\":\"strict\",\"coloraxis\":{\"colorbar\":{\"outlinewidth\":0,\"ticks\":\"\"}},\"colorscale\":{\"diverging\":[[0,\"#8e0152\"],[0.1,\"#c51b7d\"],[0.2,\"#de77ae\"],[0.3,\"#f1b6da\"],[0.4,\"#fde0ef\"],[0.5,\"#f7f7f7\"],[0.6,\"#e6f5d0\"],[0.7,\"#b8e186\"],[0.8,\"#7fbc41\"],[0.9,\"#4d9221\"],[1,\"#276419\"]],\"sequential\":[[0.0,\"#0d0887\"],[0.1111111111111111,\"#46039f\"],[0.2222222222222222,\"#7201a8\"],[0.3333333333333333,\"#9c179e\"],[0.4444444444444444,\"#bd3786\"],[0.5555555555555556,\"#d8576b\"],[0.6666666666666666,\"#ed7953\"],[0.7777777777777778,\"#fb9f3a\"],[0.8888888888888888,\"#fdca26\"],[1.0,\"#f0f921\"]],\"sequentialminus\":[[0.0,\"#0d0887\"],[0.1111111111111111,\"#46039f\"],[0.2222222222222222,\"#7201a8\"],[0.3333333333333333,\"#9c179e\"],[0.4444444444444444,\"#bd3786\"],[0.5555555555555556,\"#d8576b\"],[0.6666666666666666,\"#ed7953\"],[0.7777777777777778,\"#fb9f3a\"],[0.8888888888888888,\"#fdca26\"],[1.0,\"#f0f921\"]]},\"colorway\":[\"#636efa\",\"#EF553B\",\"#00cc96\",\"#ab63fa\",\"#FFA15A\",\"#19d3f3\",\"#FF6692\",\"#B6E880\",\"#FF97FF\",\"#FECB52\"],\"font\":{\"color\":\"#2a3f5f\"},\"geo\":{\"bgcolor\":\"white\",\"lakecolor\":\"white\",\"landcolor\":\"#E5ECF6\",\"showlakes\":true,\"showland\":true,\"subunitcolor\":\"white\"},\"hoverlabel\":{\"align\":\"left\"},\"hovermode\":\"closest\",\"mapbox\":{\"style\":\"light\"},\"paper_bgcolor\":\"white\",\"plot_bgcolor\":\"#E5ECF6\",\"polar\":{\"angularaxis\":{\"gridcolor\":\"white\",\"linecolor\":\"white\",\"ticks\":\"\"},\"bgcolor\":\"#E5ECF6\",\"radialaxis\":{\"gridcolor\":\"white\",\"linecolor\":\"white\",\"ticks\":\"\"}},\"scene\":{\"xaxis\":{\"backgroundcolor\":\"#E5ECF6\",\"gridcolor\":\"white\",\"gridwidth\":2,\"linecolor\":\"white\",\"showbackground\":true,\"ticks\":\"\",\"zerolinecolor\":\"white\"},\"yaxis\":{\"backgroundcolor\":\"#E5ECF6\",\"gridcolor\":\"white\",\"gridwidth\":2,\"linecolor\":\"white\",\"showbackground\":true,\"ticks\":\"\",\"zerolinecolor\":\"white\"},\"zaxis\":{\"backgroundcolor\":\"#E5ECF6\",\"gridcolor\":\"white\",\"gridwidth\":2,\"linecolor\":\"white\",\"showbackground\":true,\"ticks\":\"\",\"zerolinecolor\":\"white\"}},\"shapedefaults\":{\"line\":{\"color\":\"#2a3f5f\"}},\"ternary\":{\"aaxis\":{\"gridcolor\":\"white\",\"linecolor\":\"white\",\"ticks\":\"\"},\"baxis\":{\"gridcolor\":\"white\",\"linecolor\":\"white\",\"ticks\":\"\"},\"bgcolor\":\"#E5ECF6\",\"caxis\":{\"gridcolor\":\"white\",\"linecolor\":\"white\",\"ticks\":\"\"}},\"title\":{\"x\":0.05},\"xaxis\":{\"automargin\":true,\"gridcolor\":\"white\",\"linecolor\":\"white\",\"ticks\":\"\",\"title\":{\"standoff\":15},\"zerolinecolor\":\"white\",\"zerolinewidth\":2},\"yaxis\":{\"automargin\":true,\"gridcolor\":\"white\",\"linecolor\":\"white\",\"ticks\":\"\",\"title\":{\"standoff\":15},\"zerolinecolor\":\"white\",\"zerolinewidth\":2}}}},                        {\"responsive\": true}                    ).then(function(){\n",
       "                            \n",
       "var gd = document.getElementById('ab4e31b6-74a1-4b90-9fac-7593ae7f6a93');\n",
       "var x = new MutationObserver(function (mutations, observer) {{\n",
       "        var display = window.getComputedStyle(gd).display;\n",
       "        if (!display || display === 'none') {{\n",
       "            console.log([gd, 'removed!']);\n",
       "            Plotly.purge(gd);\n",
       "            observer.disconnect();\n",
       "        }}\n",
       "}});\n",
       "\n",
       "// Listen for the removal of the full notebook cells\n",
       "var notebookContainer = gd.closest('#notebook-container');\n",
       "if (notebookContainer) {{\n",
       "    x.observe(notebookContainer, {childList: true});\n",
       "}}\n",
       "\n",
       "// Listen for the clearing of the current output cell\n",
       "var outputEl = gd.closest('.output');\n",
       "if (outputEl) {{\n",
       "    x.observe(outputEl, {childList: true});\n",
       "}}\n",
       "\n",
       "                        })                };                });            </script>        </div>"
      ]
     },
     "metadata": {},
     "output_type": "display_data"
    }
   ],
   "source": [
    "polygons = skew_graph(cropped_polygons, 0, INPUT_WIDTH, 0, INPUT_HEIGHT)\n",
    "x_polygs, y_polygs = form_x_y_polygons(polygons)\n",
    "\n",
    "x0_polygs, y0_polygs = form_x_y_polygons(cropped_polygons)\n",
    "\n",
    "\n",
    "fig = go.Figure([\n",
    "    go.Scatter(x=x_polygs, y=y_polygs, mode='lines'),\n",
    "    go.Scatter(x=x0_polygs, y=y0_polygs, mode='markers')\n",
    "])\n",
    "fig.show()"
   ]
  },
  {
   "cell_type": "code",
   "execution_count": null,
   "id": "c0b3f3c5",
   "metadata": {},
   "outputs": [],
   "source": []
  },
  {
   "cell_type": "code",
   "execution_count": null,
   "id": "f6daf1ba",
   "metadata": {},
   "outputs": [],
   "source": []
  }
 ],
 "metadata": {
  "kernelspec": {
   "display_name": "Python 2",
   "language": "python",
   "name": "python2"
  },
  "language_info": {
   "codemirror_mode": {
    "name": "ipython",
    "version": 3
   },
   "file_extension": ".py",
   "mimetype": "text/x-python",
   "name": "python",
   "nbconvert_exporter": "python",
   "pygments_lexer": "ipython3",
   "version": "3.9.4"
  },
  "toc": {
   "base_numbering": 1,
   "nav_menu": {},
   "number_sections": true,
   "sideBar": true,
   "skip_h1_title": false,
   "title_cell": "Table of Contents",
   "title_sidebar": "Contents",
   "toc_cell": false,
   "toc_position": {},
   "toc_section_display": true,
   "toc_window_display": false
  },
  "varInspector": {
   "cols": {
    "lenName": 16,
    "lenType": 16,
    "lenVar": 40
   },
   "kernels_config": {
    "python": {
     "delete_cmd_postfix": "",
     "delete_cmd_prefix": "del ",
     "library": "var_list.py",
     "varRefreshCmd": "print(var_dic_list())"
    },
    "r": {
     "delete_cmd_postfix": ") ",
     "delete_cmd_prefix": "rm(",
     "library": "var_list.r",
     "varRefreshCmd": "cat(var_dic_list()) "
    }
   },
   "types_to_exclude": [
    "module",
    "function",
    "builtin_function_or_method",
    "instance",
    "_Feature"
   ],
   "window_display": false
  }
 },
 "nbformat": 4,
 "nbformat_minor": 5
}
